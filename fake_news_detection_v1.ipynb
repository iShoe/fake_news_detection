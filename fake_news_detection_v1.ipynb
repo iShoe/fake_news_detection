{
 "cells": [
  {
   "cell_type": "markdown",
   "metadata": {},
   "source": [
    "<h1>Fake News Detection using NLP</h1>"
   ]
  },
  {
   "cell_type": "code",
   "execution_count": 200,
   "metadata": {},
   "outputs": [],
   "source": [
    "import pandas as pd\n",
    "import numpy as np\n",
    "from sklearn.feature_extraction.text import CountVectorizer\n",
    "from sklearn.feature_extraction.text import TfidfVectorizer\n",
    "from sklearn.model_selection import train_test_split\n",
    "from sklearn import metrics\n",
    "from sklearn.metrics import confusion_matrix\n",
    "from sklearn.naive_bayes import MultinomialNB\n",
    "from sklearn.ensemble import RandomForestClassifier, GradientBoostingClassifier\n",
    "import matplotlib.pyplot as plt\n",
    "import itertools\n",
    "\n"
   ]
  },
  {
   "cell_type": "markdown",
   "metadata": {},
   "source": [
    "<h2>Data Exploration</h2>"
   ]
  },
  {
   "cell_type": "code",
   "execution_count": 201,
   "metadata": {},
   "outputs": [
    {
     "name": "stdout",
     "output_type": "stream",
     "text": [
      "(6335, 4)\n"
     ]
    },
    {
     "data": {
      "text/html": [
       "<div>\n",
       "<style scoped>\n",
       "    .dataframe tbody tr th:only-of-type {\n",
       "        vertical-align: middle;\n",
       "    }\n",
       "\n",
       "    .dataframe tbody tr th {\n",
       "        vertical-align: top;\n",
       "    }\n",
       "\n",
       "    .dataframe thead th {\n",
       "        text-align: right;\n",
       "    }\n",
       "</style>\n",
       "<table border=\"1\" class=\"dataframe\">\n",
       "  <thead>\n",
       "    <tr style=\"text-align: right;\">\n",
       "      <th></th>\n",
       "      <th>Unnamed: 0</th>\n",
       "      <th>title</th>\n",
       "      <th>text</th>\n",
       "      <th>label</th>\n",
       "    </tr>\n",
       "  </thead>\n",
       "  <tbody>\n",
       "    <tr>\n",
       "      <td>0</td>\n",
       "      <td>8476</td>\n",
       "      <td>You Can Smell Hillary’s Fear</td>\n",
       "      <td>Daniel Greenfield, a Shillman Journalism Fello...</td>\n",
       "      <td>FAKE</td>\n",
       "    </tr>\n",
       "    <tr>\n",
       "      <td>1</td>\n",
       "      <td>10294</td>\n",
       "      <td>Watch The Exact Moment Paul Ryan Committed Pol...</td>\n",
       "      <td>Google Pinterest Digg Linkedin Reddit Stumbleu...</td>\n",
       "      <td>FAKE</td>\n",
       "    </tr>\n",
       "    <tr>\n",
       "      <td>2</td>\n",
       "      <td>3608</td>\n",
       "      <td>Kerry to go to Paris in gesture of sympathy</td>\n",
       "      <td>U.S. Secretary of State John F. Kerry said Mon...</td>\n",
       "      <td>REAL</td>\n",
       "    </tr>\n",
       "    <tr>\n",
       "      <td>3</td>\n",
       "      <td>10142</td>\n",
       "      <td>Bernie supporters on Twitter erupt in anger ag...</td>\n",
       "      <td>— Kaydee King (@KaydeeKing) November 9, 2016 T...</td>\n",
       "      <td>FAKE</td>\n",
       "    </tr>\n",
       "    <tr>\n",
       "      <td>4</td>\n",
       "      <td>875</td>\n",
       "      <td>The Battle of New York: Why This Primary Matters</td>\n",
       "      <td>It's primary day in New York and front-runners...</td>\n",
       "      <td>REAL</td>\n",
       "    </tr>\n",
       "  </tbody>\n",
       "</table>\n",
       "</div>"
      ],
      "text/plain": [
       "   Unnamed: 0                                              title  \\\n",
       "0        8476                       You Can Smell Hillary’s Fear   \n",
       "1       10294  Watch The Exact Moment Paul Ryan Committed Pol...   \n",
       "2        3608        Kerry to go to Paris in gesture of sympathy   \n",
       "3       10142  Bernie supporters on Twitter erupt in anger ag...   \n",
       "4         875   The Battle of New York: Why This Primary Matters   \n",
       "\n",
       "                                                text label  \n",
       "0  Daniel Greenfield, a Shillman Journalism Fello...  FAKE  \n",
       "1  Google Pinterest Digg Linkedin Reddit Stumbleu...  FAKE  \n",
       "2  U.S. Secretary of State John F. Kerry said Mon...  REAL  \n",
       "3  — Kaydee King (@KaydeeKing) November 9, 2016 T...  FAKE  \n",
       "4  It's primary day in New York and front-runners...  REAL  "
      ]
     },
     "execution_count": 201,
     "metadata": {},
     "output_type": "execute_result"
    }
   ],
   "source": [
    "# import 'fake_or_real_news.csv'\n",
    "df = pd.read_csv(\"/Users/aishwarya/Desktop/Mini_Project/fake_or_real_news.csv\");\n",
    "\n",
    "# inspect shape of df\n",
    "print(df.shape)\n",
    "\n",
    "# print first few rows of df\n",
    "df.head()\n"
   ]
  },
  {
   "cell_type": "code",
   "execution_count": 202,
   "metadata": {
    "scrolled": true
   },
   "outputs": [
    {
     "data": {
      "text/html": [
       "<div>\n",
       "<style scoped>\n",
       "    .dataframe tbody tr th:only-of-type {\n",
       "        vertical-align: middle;\n",
       "    }\n",
       "\n",
       "    .dataframe tbody tr th {\n",
       "        vertical-align: top;\n",
       "    }\n",
       "\n",
       "    .dataframe thead th {\n",
       "        text-align: right;\n",
       "    }\n",
       "</style>\n",
       "<table border=\"1\" class=\"dataframe\">\n",
       "  <thead>\n",
       "    <tr style=\"text-align: right;\">\n",
       "      <th></th>\n",
       "      <th>title</th>\n",
       "      <th>text</th>\n",
       "      <th>label</th>\n",
       "    </tr>\n",
       "    <tr>\n",
       "      <th>Unnamed: 0</th>\n",
       "      <th></th>\n",
       "      <th></th>\n",
       "      <th></th>\n",
       "    </tr>\n",
       "  </thead>\n",
       "  <tbody>\n",
       "    <tr>\n",
       "      <td>8476</td>\n",
       "      <td>You Can Smell Hillary’s Fear</td>\n",
       "      <td>Daniel Greenfield, a Shillman Journalism Fello...</td>\n",
       "      <td>FAKE</td>\n",
       "    </tr>\n",
       "    <tr>\n",
       "      <td>10294</td>\n",
       "      <td>Watch The Exact Moment Paul Ryan Committed Pol...</td>\n",
       "      <td>Google Pinterest Digg Linkedin Reddit Stumbleu...</td>\n",
       "      <td>FAKE</td>\n",
       "    </tr>\n",
       "    <tr>\n",
       "      <td>3608</td>\n",
       "      <td>Kerry to go to Paris in gesture of sympathy</td>\n",
       "      <td>U.S. Secretary of State John F. Kerry said Mon...</td>\n",
       "      <td>REAL</td>\n",
       "    </tr>\n",
       "    <tr>\n",
       "      <td>10142</td>\n",
       "      <td>Bernie supporters on Twitter erupt in anger ag...</td>\n",
       "      <td>— Kaydee King (@KaydeeKing) November 9, 2016 T...</td>\n",
       "      <td>FAKE</td>\n",
       "    </tr>\n",
       "    <tr>\n",
       "      <td>875</td>\n",
       "      <td>The Battle of New York: Why This Primary Matters</td>\n",
       "      <td>It's primary day in New York and front-runners...</td>\n",
       "      <td>REAL</td>\n",
       "    </tr>\n",
       "  </tbody>\n",
       "</table>\n",
       "</div>"
      ],
      "text/plain": [
       "                                                        title  \\\n",
       "Unnamed: 0                                                      \n",
       "8476                             You Can Smell Hillary’s Fear   \n",
       "10294       Watch The Exact Moment Paul Ryan Committed Pol...   \n",
       "3608              Kerry to go to Paris in gesture of sympathy   \n",
       "10142       Bernie supporters on Twitter erupt in anger ag...   \n",
       "875          The Battle of New York: Why This Primary Matters   \n",
       "\n",
       "                                                         text label  \n",
       "Unnamed: 0                                                           \n",
       "8476        Daniel Greenfield, a Shillman Journalism Fello...  FAKE  \n",
       "10294       Google Pinterest Digg Linkedin Reddit Stumbleu...  FAKE  \n",
       "3608        U.S. Secretary of State John F. Kerry said Mon...  REAL  \n",
       "10142       — Kaydee King (@KaydeeKing) November 9, 2016 T...  FAKE  \n",
       "875         It's primary day in New York and front-runners...  REAL  "
      ]
     },
     "execution_count": 202,
     "metadata": {},
     "output_type": "execute_result"
    }
   ],
   "source": [
    "# set index\n",
    "df = df.set_index(\"Unnamed: 0\")\n",
    "\n",
    "# print first few rows of df\n",
    "df.head()"
   ]
  },
  {
   "cell_type": "markdown",
   "metadata": {},
   "source": [
    "<h2>Extracting the training data</h2>"
   ]
  },
  {
   "cell_type": "code",
   "execution_count": 203,
   "metadata": {},
   "outputs": [
    {
     "data": {
      "text/plain": [
       "Unnamed: 0\n",
       "8476     FAKE\n",
       "10294    FAKE\n",
       "3608     REAL\n",
       "10142    FAKE\n",
       "875      REAL\n",
       "Name: label, dtype: object"
      ]
     },
     "execution_count": 203,
     "metadata": {},
     "output_type": "execute_result"
    }
   ],
   "source": [
    "# set y\n",
    "y = df.label\n",
    "y.head()\n"
   ]
  },
  {
   "cell_type": "code",
   "execution_count": 204,
   "metadata": {},
   "outputs": [
    {
     "data": {
      "text/html": [
       "<div>\n",
       "<style scoped>\n",
       "    .dataframe tbody tr th:only-of-type {\n",
       "        vertical-align: middle;\n",
       "    }\n",
       "\n",
       "    .dataframe tbody tr th {\n",
       "        vertical-align: top;\n",
       "    }\n",
       "\n",
       "    .dataframe thead th {\n",
       "        text-align: right;\n",
       "    }\n",
       "</style>\n",
       "<table border=\"1\" class=\"dataframe\">\n",
       "  <thead>\n",
       "    <tr style=\"text-align: right;\">\n",
       "      <th></th>\n",
       "      <th>title</th>\n",
       "      <th>text</th>\n",
       "    </tr>\n",
       "    <tr>\n",
       "      <th>Unnamed: 0</th>\n",
       "      <th></th>\n",
       "      <th></th>\n",
       "    </tr>\n",
       "  </thead>\n",
       "  <tbody>\n",
       "    <tr>\n",
       "      <td>8476</td>\n",
       "      <td>You Can Smell Hillary’s Fear</td>\n",
       "      <td>Daniel Greenfield, a Shillman Journalism Fello...</td>\n",
       "    </tr>\n",
       "    <tr>\n",
       "      <td>10294</td>\n",
       "      <td>Watch The Exact Moment Paul Ryan Committed Pol...</td>\n",
       "      <td>Google Pinterest Digg Linkedin Reddit Stumbleu...</td>\n",
       "    </tr>\n",
       "    <tr>\n",
       "      <td>3608</td>\n",
       "      <td>Kerry to go to Paris in gesture of sympathy</td>\n",
       "      <td>U.S. Secretary of State John F. Kerry said Mon...</td>\n",
       "    </tr>\n",
       "    <tr>\n",
       "      <td>10142</td>\n",
       "      <td>Bernie supporters on Twitter erupt in anger ag...</td>\n",
       "      <td>— Kaydee King (@KaydeeKing) November 9, 2016 T...</td>\n",
       "    </tr>\n",
       "    <tr>\n",
       "      <td>875</td>\n",
       "      <td>The Battle of New York: Why This Primary Matters</td>\n",
       "      <td>It's primary day in New York and front-runners...</td>\n",
       "    </tr>\n",
       "  </tbody>\n",
       "</table>\n",
       "</div>"
      ],
      "text/plain": [
       "                                                        title  \\\n",
       "Unnamed: 0                                                      \n",
       "8476                             You Can Smell Hillary’s Fear   \n",
       "10294       Watch The Exact Moment Paul Ryan Committed Pol...   \n",
       "3608              Kerry to go to Paris in gesture of sympathy   \n",
       "10142       Bernie supporters on Twitter erupt in anger ag...   \n",
       "875          The Battle of New York: Why This Primary Matters   \n",
       "\n",
       "                                                         text  \n",
       "Unnamed: 0                                                     \n",
       "8476        Daniel Greenfield, a Shillman Journalism Fello...  \n",
       "10294       Google Pinterest Digg Linkedin Reddit Stumbleu...  \n",
       "3608        U.S. Secretary of State John F. Kerry said Mon...  \n",
       "10142       — Kaydee King (@KaydeeKing) November 9, 2016 T...  \n",
       "875         It's primary day in New York and front-runners...  "
      ]
     },
     "execution_count": 204,
     "metadata": {},
     "output_type": "execute_result"
    }
   ],
   "source": [
    "\n",
    "# drop 'label' column \n",
    "df.drop(\"label\", axis=1, inplace=True)\n",
    "df.head()\n"
   ]
  },
  {
   "cell_type": "code",
   "execution_count": 205,
   "metadata": {},
   "outputs": [],
   "source": [
    "# make training and test sets\n",
    "X_train, X_test, y_train, y_test= train_test_split(df['text'], y, test_size=0.33, random_state=53)"
   ]
  },
  {
   "cell_type": "code",
   "execution_count": 206,
   "metadata": {},
   "outputs": [
    {
     "data": {
      "text/plain": [
       "Unnamed: 0\n",
       "8055                                                     \n",
       "5656    Report Copyright Violation Do you think there ...\n",
       "669     The election in 232 photos, 43 numbers and 131...\n",
       "5630    Email Ever wonder what’s on the mind of today’...\n",
       "9797    Wells Fargo is Rotting from the Top Down Wells...\n",
       "Name: text, dtype: object"
      ]
     },
     "execution_count": 206,
     "metadata": {},
     "output_type": "execute_result"
    }
   ],
   "source": [
    "X_train.head()"
   ]
  },
  {
   "cell_type": "code",
   "execution_count": 207,
   "metadata": {},
   "outputs": [
    {
     "data": {
      "text/plain": [
       "Unnamed: 0\n",
       "8055    FAKE\n",
       "5656    FAKE\n",
       "669     REAL\n",
       "5630    FAKE\n",
       "9797    FAKE\n",
       "Name: label, dtype: object"
      ]
     },
     "execution_count": 207,
     "metadata": {},
     "output_type": "execute_result"
    }
   ],
   "source": [
    "y_train.head()"
   ]
  },
  {
   "cell_type": "markdown",
   "metadata": {},
   "source": [
    "<h2>Building Vector Classifiers </h2>"
   ]
  },
  {
   "cell_type": "markdown",
   "metadata": {},
   "source": [
    "<h3>1. Using Count Vectorizer </h3>"
   ]
  },
  {
   "cell_type": "code",
   "execution_count": 208,
   "metadata": {},
   "outputs": [],
   "source": [
    "# initialize the count_vectorizer and remove english stop words\n",
    "count_vectorizer = CountVectorizer(stop_words='english', ngram_range=(2,2))\n",
    "\n",
    "# fit and transform the training data \n",
    "count_train = count_vectorizer.fit_transform(X_train)\n",
    "\n",
    "# transform the test set\n",
    "count_test = count_vectorizer.transform(X_test)\n"
   ]
  },
  {
   "cell_type": "markdown",
   "metadata": {},
   "source": [
    "<h3>2. Using Tfidf Vectorizer </h3>"
   ]
  },
  {
   "cell_type": "code",
   "execution_count": 209,
   "metadata": {},
   "outputs": [],
   "source": [
    "# initialize the tfidf_vectorizer and remove english stop words\n",
    "tfidf_vectorizer = TfidfVectorizer(stop_words='english', ngram_range=(2,2))\n",
    "\n",
    "# fit and transform the training data\n",
    "tfidf_train = tfidf_vectorizer.fit_transform(X_train)\n",
    "\n",
    "# transform the test set\n",
    "tfidf_test = tfidf_vectorizer.transform(X_test)\n"
   ]
  },
  {
   "cell_type": "code",
   "execution_count": 210,
   "metadata": {},
   "outputs": [
    {
     "name": "stdout",
     "output_type": "stream",
     "text": [
      "['00 00', '00 015', '00 10', '00 14', '00 barrel', '00 books', '00 cruz', '00 debate', '00 debt', '00 doors']\n",
      "['00 00', '00 015', '00 10', '00 14', '00 barrel', '00 books', '00 cruz', '00 debate', '00 debt', '00 doors']\n"
     ]
    }
   ],
   "source": [
    "# print first 10 feature names of tfidf_vectorizer\n",
    "print(tfidf_vectorizer.get_feature_names()[:10])\n",
    "\n",
    "#print first 10 feature names of count_vectorizer\n",
    "print(count_vectorizer.get_feature_names()[:10])\n"
   ]
  },
  {
   "cell_type": "code",
   "execution_count": 211,
   "metadata": {},
   "outputs": [
    {
     "name": "stdout",
     "output_type": "stream",
     "text": [
      "   00 00  00 015  00 10  00 14  00 barrel  00 books  00 cruz  00 debate  \\\n",
      "0      0       0      0      0          0         0        0          0   \n",
      "1      0       0      0      0          0         0        0          0   \n",
      "2      0       0      0      0          0         0        0          0   \n",
      "3      0       0      0      0          0         0        0          0   \n",
      "4      0       0      0      0          0         0        0          0   \n",
      "\n",
      "   00 debt  00 doors  ...  حلب لم  عربي year  عن الأمر  لم تنجح  ما تحتاج  \\\n",
      "0        0         0  ...       0          0         0        0         0   \n",
      "1        0         0  ...       0          0         0        0         0   \n",
      "2        0         0  ...       0          0         0        0         0   \n",
      "3        0         0  ...       0          0         0        0         0   \n",
      "4        0         0  ...       0          0         0        0         0   \n",
      "\n",
      "   محاولات إجلاء  من حلب  هذا ما  والمرضى من  ยงade actions  \n",
      "0              0       0       0           0              0  \n",
      "1              0       0       0           0              0  \n",
      "2              0       0       0           0              0  \n",
      "3              0       0       0           0              0  \n",
      "4              0       0       0           0              0  \n",
      "\n",
      "[5 rows x 1108435 columns]\n",
      "   00 00  00 015  00 10  00 14  00 barrel  00 books  00 cruz  00 debate  \\\n",
      "0    0.0     0.0    0.0    0.0        0.0       0.0      0.0        0.0   \n",
      "1    0.0     0.0    0.0    0.0        0.0       0.0      0.0        0.0   \n",
      "2    0.0     0.0    0.0    0.0        0.0       0.0      0.0        0.0   \n",
      "3    0.0     0.0    0.0    0.0        0.0       0.0      0.0        0.0   \n",
      "4    0.0     0.0    0.0    0.0        0.0       0.0      0.0        0.0   \n",
      "\n",
      "   00 debt  00 doors  ...  حلب لم  عربي year  عن الأمر  لم تنجح  ما تحتاج  \\\n",
      "0      0.0       0.0  ...     0.0        0.0       0.0      0.0       0.0   \n",
      "1      0.0       0.0  ...     0.0        0.0       0.0      0.0       0.0   \n",
      "2      0.0       0.0  ...     0.0        0.0       0.0      0.0       0.0   \n",
      "3      0.0       0.0  ...     0.0        0.0       0.0      0.0       0.0   \n",
      "4      0.0       0.0  ...     0.0        0.0       0.0      0.0       0.0   \n",
      "\n",
      "   محاولات إجلاء  من حلب  هذا ما  والمرضى من  ยงade actions  \n",
      "0            0.0     0.0     0.0         0.0            0.0  \n",
      "1            0.0     0.0     0.0         0.0            0.0  \n",
      "2            0.0     0.0     0.0         0.0            0.0  \n",
      "3            0.0     0.0     0.0         0.0            0.0  \n",
      "4            0.0     0.0     0.0         0.0            0.0  \n",
      "\n",
      "[5 rows x 1108435 columns]\n",
      "set()\n",
      "False\n"
     ]
    }
   ],
   "source": [
    "# inspecting the vectors\n",
    "\n",
    "# create count vectorizer data frame\n",
    "count_df = pd.DataFrame(count_train.A, columns=count_vectorizer.get_feature_names())\n",
    "\n",
    "# create tfidf vectorizer data frame\n",
    "tfidf_df = pd.DataFrame(tfidf_train.A, columns=count_vectorizer.get_feature_names())\n",
    "\n",
    "# print head of count_df\n",
    "print(count_df.head())\n",
    "\n",
    "#print head of tfidf_df\n",
    "print(tfidf_df.head())\n",
    "\n",
    "# calculate the difference in columns\n",
    "difference = set(tfidf_df.columns) - set(count_df.columns)\n",
    "print(difference)\n",
    "\n",
    "# check whether the DataFrames are equal\n",
    "print(count_df.equals(tfidf_df))\n",
    "\n"
   ]
  },
  {
   "cell_type": "markdown",
   "metadata": {},
   "source": [
    "<h2> Confusion Matrix </h2>"
   ]
  },
  {
   "cell_type": "code",
   "execution_count": 212,
   "metadata": {},
   "outputs": [],
   "source": [
    "# Confusion Matrix\n",
    "def plot_confusion_matrix(cm, classes,\n",
    "                          normalize=False,\n",
    "                          title='Confusion matrix',\n",
    "                          cmap=plt.cm.Blues):\n",
    "\n",
    "    plt.imshow(cm, interpolation='nearest', cmap=cmap)\n",
    "    plt.title(title)\n",
    "    plt.colorbar()\n",
    "    tick_marks = np.arange(len(classes))\n",
    "    plt.xticks(tick_marks, classes, rotation=45)\n",
    "    plt.yticks(tick_marks, classes)\n",
    "\n",
    "#     if normalize:\n",
    "#         cm = cm.astype('float') / cm.sum(axis=1)[:, np.newaxis]\n",
    "#         print(\"Normalized confusion matrix\")\n",
    "#     else:\n",
    "#         print('Confusion matrix')\n",
    "\n",
    "    thresh = cm.max() / 2.\n",
    "    for i, j in itertools.product(range(cm.shape[0]), range(cm.shape[1])):\n",
    "        plt.text(j, i, cm[i, j],\n",
    "                 horizontalalignment=\"center\",\n",
    "                 color=\"white\" if cm[i, j] > thresh else \"black\")\n",
    "\n",
    "    plt.tight_layout()\n",
    "    plt.ylabel('True label')\n",
    "    plt.xlabel('Predicted label')\n",
    "    plt.tight_layout()\n",
    "    plt.ylim([1.5, -.5])\n",
    "    plt.show()"
   ]
  },
  {
   "cell_type": "markdown",
   "metadata": {},
   "source": [
    "<h2> Naive Bayes Model </h2>"
   ]
  },
  {
   "cell_type": "markdown",
   "metadata": {},
   "source": [
    "<h3>1. For Count Vectorizer </h3>"
   ]
  },
  {
   "cell_type": "code",
   "execution_count": 213,
   "metadata": {},
   "outputs": [
    {
     "name": "stdout",
     "output_type": "stream",
     "text": [
      "ACCURACY:  0.9029172644667623\n",
      "Confusion Matrix: \n",
      "[[ 821  187]\n",
      " [  16 1067]]\n"
     ]
    },
    {
     "data": {
      "image/png": "[encoded data removed]",
      "text/plain": [
       "<Figure size 432x288 with 2 Axes>"
      ]
     },
     "metadata": {},
     "output_type": "display_data"
    }
   ],
   "source": [
    "# create Naive Bayes Model with CountVectorizer\n",
    "\n",
    "# instantiate a Multinomial Naive Bayes classifier \n",
    "nb_classifier = MultinomialNB()\n",
    "\n",
    "# fit the classifier to the training data\n",
    "nb_classifier.fit(count_train, y_train)\n",
    "\n",
    "# predict test data\n",
    "pred = nb_classifier.predict(count_test)\n",
    "\n",
    "# calculate the accuracy score\n",
    "score = metrics.accuracy_score(y_test, pred)\n",
    "print('ACCURACY: ', score)\n",
    "\n",
    "# calculate the confusion matrix\n",
    "cm = metrics.confusion_matrix(y_test, pred, labels=['FAKE', 'REAL'])\n",
    "print('Confusion Matrix: ')\n",
    "print(cm)\n",
    "plot_confusion_matrix(cm, classes=['FAKE', 'REAL'])\n",
    "\n",
    "\n"
   ]
  },
  {
   "cell_type": "markdown",
   "metadata": {},
   "source": [
    "<h3>2. For Tfidf Vectorizer </h3>"
   ]
  },
  {
   "cell_type": "code",
   "execution_count": 214,
   "metadata": {},
   "outputs": [
    {
     "name": "stdout",
     "output_type": "stream",
     "text": [
      "ACCURACY:  0.9105691056910569\n",
      "Confusion Matrix: \n",
      "[[ 835  173]\n",
      " [  14 1069]]\n"
     ]
    },
    {
     "data": {
      "image/png": "[encoded data removed]",
      "text/plain": [
       "<Figure size 432x288 with 2 Axes>"
      ]
     },
     "metadata": {},
     "output_type": "display_data"
    }
   ],
   "source": [
    "# create Naive Bayes Model with TfidfVectorizer\n",
    "\n",
    "# instantiate a Multinomial Naive Bayes classifier \n",
    "nb_classifier = MultinomialNB()\n",
    "\n",
    "# fit the classifier to the training data\n",
    "nb_classifier.fit(tfidf_train, y_train)\n",
    "\n",
    "# predict test data\n",
    "pred = nb_classifier.predict(tfidf_test)\n",
    "\n",
    "# calculate the accuracy score\n",
    "score = metrics.accuracy_score(y_test, pred)\n",
    "print('ACCURACY: ', score)\n",
    "\n",
    "# calculate the confusion matrix\n",
    "cm = metrics.confusion_matrix(y_test, pred, labels=['FAKE', 'REAL'])\n",
    "print('Confusion Matrix: ')\n",
    "print(cm)\n",
    "plot_confusion_matrix(cm, classes=['FAKE', 'REAL'])"
   ]
  },
  {
   "cell_type": "markdown",
   "metadata": {},
   "source": [
    "<h4>Improving Naive Bayes model </h4>"
   ]
  },
  {
   "cell_type": "code",
   "execution_count": 215,
   "metadata": {},
   "outputs": [
    {
     "name": "stdout",
     "output_type": "stream",
     "text": [
      "Alpha:  0.0\n",
      "Score:  0.8900047824007652\n",
      "\n",
      "Alpha:  0.1\n",
      "Score:  0.9167862266857962\n",
      "\n",
      "Alpha:  0.2\n"
     ]
    },
    {
     "name": "stderr",
     "output_type": "stream",
     "text": [
      "/opt/anaconda3/lib/python3.7/site-packages/sklearn/naive_bayes.py:485: UserWarning: alpha too small will result in numeric errors, setting alpha = 1.0e-10\n",
      "  'setting alpha = %.1e' % _ALPHA_MIN)\n"
     ]
    },
    {
     "name": "stdout",
     "output_type": "stream",
     "text": [
      "Score:  0.9134385461501674\n",
      "\n",
      "Alpha:  0.30000000000000004\n",
      "Score:  0.9134385461501674\n",
      "\n",
      "Alpha:  0.4\n",
      "Score:  0.9124820659971306\n",
      "\n",
      "Alpha:  0.5\n",
      "Score:  0.9115255858440937\n",
      "\n",
      "Alpha:  0.6000000000000001\n",
      "Score:  0.9096126255380201\n",
      "\n",
      "Alpha:  0.7000000000000001\n",
      "Score:  0.9105691056910569\n",
      "\n",
      "Alpha:  0.8\n",
      "Score:  0.9105691056910569\n",
      "\n",
      "Alpha:  0.9\n",
      "Score:  0.9110473457675753\n",
      "\n"
     ]
    }
   ],
   "source": [
    "# improving NB model by testing with different alpha levels\n",
    "\n",
    "alphas = np.arange(0, 1, 0.1)\n",
    "\n",
    "# define train_and_predict()\n",
    "def train_and_predict(alpha):\n",
    "    # instantiate the classifier\n",
    "    nb_classifier = MultinomialNB(alpha=alpha)\n",
    "    # fit to training data\n",
    "    nb_classifier.fit(tfidf_train, y_train)\n",
    "    # predict the labels\n",
    "    pred = nb_classifier.predict(tfidf_test)\n",
    "    # calculate accuracy score\n",
    "    score = metrics.accuracy_score(y_test, pred)\n",
    "    return score\n",
    "\n",
    "\n",
    "# iterate over alphas and print the corresponding score\n",
    "for alpha in alphas:\n",
    "    print('Alpha: ', alpha)\n",
    "    print('Score: ', train_and_predict(alpha))\n",
    "    print()"
   ]
  },
  {
   "cell_type": "markdown",
   "metadata": {},
   "source": [
    "<h2> Random Forest Model </h2>"
   ]
  },
  {
   "cell_type": "code",
   "execution_count": 216,
   "metadata": {},
   "outputs": [
    {
     "name": "stderr",
     "output_type": "stream",
     "text": [
      "/opt/anaconda3/lib/python3.7/site-packages/sklearn/ensemble/forest.py:245: FutureWarning: The default value of n_estimators will change from 10 in version 0.20 to 100 in 0.22.\n",
      "  \"10 in version 0.20 to 100 in 0.22.\", FutureWarning)\n"
     ]
    },
    {
     "name": "stdout",
     "output_type": "stream",
     "text": [
      "ACCURACY:  0.8393113342898135\n",
      "Confusion Matrix: \n",
      "[[939  69]\n",
      " [267 816]]\n"
     ]
    },
    {
     "data": {
      "image/png": "[encoded data removed]",
      "text/plain": [
       "<Figure size 432x288 with 2 Axes>"
      ]
     },
     "metadata": {},
     "output_type": "display_data"
    }
   ],
   "source": [
    "# create a Random Forest model using TfidfVectorizer\n",
    "\n",
    "rf_classifier = RandomForestClassifier()\n",
    "\n",
    "rf_classifier.fit(tfidf_train, y_train)\n",
    "\n",
    "pred = rf_classifier.predict(tfidf_test)\n",
    "\n",
    "score = metrics.accuracy_score(y_test, pred)\n",
    "print('ACCURACY: ', score)\n",
    "\n",
    "# calculate the confusion matrix\n",
    "cm = metrics.confusion_matrix(y_test, pred, labels=['FAKE', 'REAL'])\n",
    "print('Confusion Matrix: ')\n",
    "print(cm)\n",
    "plot_confusion_matrix(cm, classes=['FAKE', 'REAL'])\n"
   ]
  },
  {
   "cell_type": "markdown",
   "metadata": {},
   "source": [
    "<h2> Gradient Boost Model </h2>"
   ]
  },
  {
   "cell_type": "code",
   "execution_count": 217,
   "metadata": {},
   "outputs": [
    {
     "name": "stdout",
     "output_type": "stream",
     "text": [
      "ACCURACY:  0.8354854136776662\n",
      "Confusion Matrix: \n",
      "[[936  72]\n",
      " [272 811]]\n"
     ]
    },
    {
     "data": {
      "image/png": "[encoded data removed]",
      "text/plain": [
       "<Figure size 432x288 with 2 Axes>"
      ]
     },
     "metadata": {},
     "output_type": "display_data"
    }
   ],
   "source": [
    "# create Gradiant Boost model using TfidfVectorizer\n",
    "\n",
    "gb_classifier = GradientBoostingClassifier()\n",
    "\n",
    "gb_classifier.fit(tfidf_train, y_train)\n",
    "\n",
    "pred = gb_classifier.predict(tfidf_test)\n",
    "\n",
    "score = metrics.accuracy_score(y_test, pred)\n",
    "print('ACCURACY: ', score)\n",
    "\n",
    "# calculate the confusion matrix\n",
    "cm = metrics.confusion_matrix(y_test, pred, labels=['FAKE', 'REAL'])\n",
    "print('Confusion Matrix: ')\n",
    "print(cm)\n",
    "plot_confusion_matrix(cm, classes=['FAKE', 'REAL'])"
   ]
  },
  {
   "cell_type": "markdown",
   "metadata": {},
   "source": [
    "<h2> Passive Aggressive Model </h2>"
   ]
  },
  {
   "cell_type": "code",
   "execution_count": 218,
   "metadata": {},
   "outputs": [
    {
     "name": "stdout",
     "output_type": "stream",
     "text": [
      "ACCURACY:  0.9349593495934959\n",
      "Confusion Matrix: \n",
      "[[ 936   72]\n",
      " [  64 1019]]\n"
     ]
    },
    {
     "data": {
      "image/png": "[encoded data removed]",
      "text/plain": [
       "<Figure size 432x288 with 2 Axes>"
      ]
     },
     "metadata": {},
     "output_type": "display_data"
    }
   ],
   "source": [
    "# Create Passive Aggressive Classifier model using TfidfVectorizer \n",
    "\n",
    "pa_classifier = PassiveAggressiveClassifier()\n",
    "\n",
    "pa_classifier.fit(tfidf_train, y_train)\n",
    "\n",
    "pred = pa_classifier.predict(tfidf_test)\n",
    "\n",
    "score = metrics.accuracy_score(y_test, pred)\n",
    "print('ACCURACY: ', score)\n",
    "\n",
    "# calculate confusion matrix\n",
    "cm = metrics.confusion_matrix(y_test, pred, labels=['FAKE', 'REAL'])\n",
    "print('Confusion Matrix: ')\n",
    "print(cm)\n",
    "plot_confusion_matrix(cm, classes=['FAKE', 'REAL'])"
   ]
  },
  {
   "cell_type": "markdown",
   "metadata": {},
   "source": [
    "<h2>Predicting... </h2>"
   ]
  },
  {
   "cell_type": "code",
   "execution_count": 220,
   "metadata": {},
   "outputs": [
    {
     "name": "stdout",
     "output_type": "stream",
     "text": [
      "['FAKE']\n"
     ]
    }
   ],
   "source": [
    "# article opens text from file which contains the news article text we want to\n",
    "# check if fake or real \n",
    "article = open(\"/Users/aishwarya/Desktop/Mini_Project/article_test.txt\")\n",
    "X_validation = article.read()\n",
    "\n",
    "# transforming using same vectorizer to maintain similar token IDs\n",
    "tfidf_validation = tfidf_vectorizer.transform([X_validation])\n",
    "\n",
    "# we use gradient boosting (but passive aggressive is most accurate)\n",
    "pred = gb_classifier.predict(tfidf_validation)\n",
    "\n",
    "print(pred)\n"
   ]
  },
  {
   "cell_type": "markdown",
   "metadata": {},
   "source": [
    "<p>\n",
    "To do:\n",
    "    <ul>\n",
    "        <li>Add more datapoints and more pre preprocessing if possible</li>",
    "        <li>Generate POS tags for syntactical analysis\n",
    "        <li>Generate feature vector by semantic analysis (Empath - lexicon) </li>\n",
    "        <li>Combine all </li>\n",
    "    </ul>\n",
    "\n",
    "</p>"
   ]
  }
 ],
 "metadata": {
  "kernelspec": {
   "display_name": "Python 3",
   "language": "python",
   "name": "python3"
  },
  "language_info": {
   "codemirror_mode": {
    "name": "ipython",
    "version": 3
   },
   "file_extension": ".py",
   "mimetype": "text/x-python",
   "name": "python",
   "nbconvert_exporter": "python",
   "pygments_lexer": "ipython3",
   "version": "3.7.4"
  }
 },
 "nbformat": 4,
 "nbformat_minor": 2
}
