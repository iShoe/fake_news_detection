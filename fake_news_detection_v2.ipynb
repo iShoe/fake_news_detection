{
 "cells": [
  {
   "cell_type": "code",
   "execution_count": 8,
   "metadata": {},
   "outputs": [
    {
     "name": "stderr",
     "output_type": "stream",
     "text": [
      "[nltk_data] Downloading package stopwords to\n",
      "[nltk_data]     /Users/aishwarya/nltk_data...\n",
      "[nltk_data]   Package stopwords is already up-to-date!\n",
      "[nltk_data] Downloading package wordnet to\n",
      "[nltk_data]     /Users/aishwarya/nltk_data...\n",
      "[nltk_data]   Package wordnet is already up-to-date!\n",
      "[nltk_data] Downloading package words to /Users/aishwarya/nltk_data...\n",
      "[nltk_data]   Package words is already up-to-date!\n"
     ]
    }
   ],
   "source": [
    "import pandas as pd\n",
    "import numpy as np\n",
    "import matplotlib.pyplot as plt\n",
    "import string\n",
    "import re\n",
    "import nltk\n",
    "nltk.download('stopwords')\n",
    "from nltk.corpus import stopwords\n",
    "nltk.download('wordnet')\n",
    "nltk.download('words')\n",
    "from nltk.stem import WordNetLemmatizer\n",
    "from sklearn.model_selection import train_test_split\n",
    "from sklearn.feature_extraction.text import TfidfVectorizer\n",
    "from sklearn.metrics import confusion_matrix\n",
    "from sklearn.naive_bayes import MultinomialNB\n",
    "from sklearn.ensemble import RandomForestClassifier, GradientBoostingClassifier\n",
    "import matplotlib.pyplot as plt\n",
    "from sklearn import metrics\n",
    "import itertools\n",
    "import spacy\n",
    "from empath import Empath\n",
    "import scipy.sparse as sp\n",
    "from sklearn.linear_model import PassiveAggressiveClassifier"
   ]
  },
  {
   "cell_type": "markdown",
   "metadata": {},
   "source": [
    "<h2>Data Preparation</h2>"
   ]
  },
  {
   "cell_type": "code",
   "execution_count": 9,
   "metadata": {},
   "outputs": [
    {
     "name": "stdout",
     "output_type": "stream",
     "text": [
      "(4009, 4)\n",
      "Index(['URLs', 'Headline', 'Body', 'Label'], dtype='object')\n"
     ]
    },
    {
     "data": {
      "text/html": [
       "<div>\n",
       "<style scoped>\n",
       "    .dataframe tbody tr th:only-of-type {\n",
       "        vertical-align: middle;\n",
       "    }\n",
       "\n",
       "    .dataframe tbody tr th {\n",
       "        vertical-align: top;\n",
       "    }\n",
       "\n",
       "    .dataframe thead th {\n",
       "        text-align: right;\n",
       "    }\n",
       "</style>\n",
       "<table border=\"1\" class=\"dataframe\">\n",
       "  <thead>\n",
       "    <tr style=\"text-align: right;\">\n",
       "      <th></th>\n",
       "      <th>URLs</th>\n",
       "      <th>Headline</th>\n",
       "      <th>Body</th>\n",
       "      <th>Label</th>\n",
       "    </tr>\n",
       "  </thead>\n",
       "  <tbody>\n",
       "    <tr>\n",
       "      <td>0</td>\n",
       "      <td>http://www.bbc.com/news/world-us-canada-414191...</td>\n",
       "      <td>Four ways Bob Corker skewered Donald Trump</td>\n",
       "      <td>Image copyright Getty Images\\nOn Sunday mornin...</td>\n",
       "      <td>1</td>\n",
       "    </tr>\n",
       "    <tr>\n",
       "      <td>1</td>\n",
       "      <td>https://www.reuters.com/article/us-filmfestiva...</td>\n",
       "      <td>Linklater's war veteran comedy speaks to moder...</td>\n",
       "      <td>LONDON (Reuters) - “Last Flag Flying”, a comed...</td>\n",
       "      <td>1</td>\n",
       "    </tr>\n",
       "    <tr>\n",
       "      <td>2</td>\n",
       "      <td>https://www.nytimes.com/2017/10/09/us/politics...</td>\n",
       "      <td>Trump’s Fight With Corker Jeopardizes His Legi...</td>\n",
       "      <td>The feud broke into public view last week when...</td>\n",
       "      <td>1</td>\n",
       "    </tr>\n",
       "    <tr>\n",
       "      <td>3</td>\n",
       "      <td>https://www.reuters.com/article/us-mexico-oil-...</td>\n",
       "      <td>Egypt's Cheiron wins tie-up with Pemex for Mex...</td>\n",
       "      <td>MEXICO CITY (Reuters) - Egypt’s Cheiron Holdin...</td>\n",
       "      <td>1</td>\n",
       "    </tr>\n",
       "    <tr>\n",
       "      <td>4</td>\n",
       "      <td>http://www.cnn.com/videos/cnnmoney/2017/10/08/...</td>\n",
       "      <td>Jason Aldean opens 'SNL' with Vegas tribute</td>\n",
       "      <td>Country singer Jason Aldean, who was performin...</td>\n",
       "      <td>1</td>\n",
       "    </tr>\n",
       "  </tbody>\n",
       "</table>\n",
       "</div>"
      ],
      "text/plain": [
       "                                                URLs  \\\n",
       "0  http://www.bbc.com/news/world-us-canada-414191...   \n",
       "1  https://www.reuters.com/article/us-filmfestiva...   \n",
       "2  https://www.nytimes.com/2017/10/09/us/politics...   \n",
       "3  https://www.reuters.com/article/us-mexico-oil-...   \n",
       "4  http://www.cnn.com/videos/cnnmoney/2017/10/08/...   \n",
       "\n",
       "                                            Headline  \\\n",
       "0         Four ways Bob Corker skewered Donald Trump   \n",
       "1  Linklater's war veteran comedy speaks to moder...   \n",
       "2  Trump’s Fight With Corker Jeopardizes His Legi...   \n",
       "3  Egypt's Cheiron wins tie-up with Pemex for Mex...   \n",
       "4        Jason Aldean opens 'SNL' with Vegas tribute   \n",
       "\n",
       "                                                Body  Label  \n",
       "0  Image copyright Getty Images\\nOn Sunday mornin...      1  \n",
       "1  LONDON (Reuters) - “Last Flag Flying”, a comed...      1  \n",
       "2  The feud broke into public view last week when...      1  \n",
       "3  MEXICO CITY (Reuters) - Egypt’s Cheiron Holdin...      1  \n",
       "4  Country singer Jason Aldean, who was performin...      1  "
      ]
     },
     "execution_count": 9,
     "metadata": {},
     "output_type": "execute_result"
    }
   ],
   "source": [
    "# import first dataset 'data.csv'\n",
    "df = pd.read_csv(\"/Users/aishwarya/Desktop/Mini_Project/data.csv\");\n",
    "\n",
    "# inspect shape\n",
    "print(df.shape)\n",
    "\n",
    "# inspect columns\n",
    "print(df.columns)\n",
    "\n",
    "# inspect first few rows\n",
    "df.head()"
   ]
  },
  {
   "cell_type": "code",
   "execution_count": 10,
   "metadata": {},
   "outputs": [
    {
     "data": {
      "text/html": [
       "<div>\n",
       "<style scoped>\n",
       "    .dataframe tbody tr th:only-of-type {\n",
       "        vertical-align: middle;\n",
       "    }\n",
       "\n",
       "    .dataframe tbody tr th {\n",
       "        vertical-align: top;\n",
       "    }\n",
       "\n",
       "    .dataframe thead th {\n",
       "        text-align: right;\n",
       "    }\n",
       "</style>\n",
       "<table border=\"1\" class=\"dataframe\">\n",
       "  <thead>\n",
       "    <tr style=\"text-align: right;\">\n",
       "      <th></th>\n",
       "      <th>Headline</th>\n",
       "      <th>Body</th>\n",
       "      <th>Label</th>\n",
       "    </tr>\n",
       "  </thead>\n",
       "  <tbody>\n",
       "    <tr>\n",
       "      <td>0</td>\n",
       "      <td>Four ways Bob Corker skewered Donald Trump</td>\n",
       "      <td>Image copyright Getty Images\\nOn Sunday mornin...</td>\n",
       "      <td>REAL</td>\n",
       "    </tr>\n",
       "    <tr>\n",
       "      <td>1</td>\n",
       "      <td>Linklater's war veteran comedy speaks to moder...</td>\n",
       "      <td>LONDON (Reuters) - “Last Flag Flying”, a comed...</td>\n",
       "      <td>REAL</td>\n",
       "    </tr>\n",
       "    <tr>\n",
       "      <td>2</td>\n",
       "      <td>Trump’s Fight With Corker Jeopardizes His Legi...</td>\n",
       "      <td>The feud broke into public view last week when...</td>\n",
       "      <td>REAL</td>\n",
       "    </tr>\n",
       "    <tr>\n",
       "      <td>3</td>\n",
       "      <td>Egypt's Cheiron wins tie-up with Pemex for Mex...</td>\n",
       "      <td>MEXICO CITY (Reuters) - Egypt’s Cheiron Holdin...</td>\n",
       "      <td>REAL</td>\n",
       "    </tr>\n",
       "    <tr>\n",
       "      <td>4</td>\n",
       "      <td>Jason Aldean opens 'SNL' with Vegas tribute</td>\n",
       "      <td>Country singer Jason Aldean, who was performin...</td>\n",
       "      <td>REAL</td>\n",
       "    </tr>\n",
       "  </tbody>\n",
       "</table>\n",
       "</div>"
      ],
      "text/plain": [
       "                                            Headline  \\\n",
       "0         Four ways Bob Corker skewered Donald Trump   \n",
       "1  Linklater's war veteran comedy speaks to moder...   \n",
       "2  Trump’s Fight With Corker Jeopardizes His Legi...   \n",
       "3  Egypt's Cheiron wins tie-up with Pemex for Mex...   \n",
       "4        Jason Aldean opens 'SNL' with Vegas tribute   \n",
       "\n",
       "                                                Body Label  \n",
       "0  Image copyright Getty Images\\nOn Sunday mornin...  REAL  \n",
       "1  LONDON (Reuters) - “Last Flag Flying”, a comed...  REAL  \n",
       "2  The feud broke into public view last week when...  REAL  \n",
       "3  MEXICO CITY (Reuters) - Egypt’s Cheiron Holdin...  REAL  \n",
       "4  Country singer Jason Aldean, who was performin...  REAL  "
      ]
     },
     "execution_count": 10,
     "metadata": {},
     "output_type": "execute_result"
    }
   ],
   "source": [
    "# rename labels from 0 to 'REAL' and 1 to 'FAKE'\n",
    "df.loc[df['Label']== 1, 'Label'] = 'REAL'\n",
    "df.loc[df['Label']== 0, 'Label'] = 'FAKE'\n",
    "\n",
    "# drop the column URLs from table\n",
    "df.drop(['URLs'], axis = 1, inplace = True)\n",
    "df.head()"
   ]
  },
  {
   "cell_type": "code",
   "execution_count": 11,
   "metadata": {},
   "outputs": [
    {
     "name": "stdout",
     "output_type": "stream",
     "text": [
      "Index(['uuid', 'ord_in_thread', 'author', 'published', 'title', 'text',\n",
      "       'language', 'crawled', 'site_url', 'country', 'domain_rank',\n",
      "       'thread_title', 'spam_score', 'main_img_url', 'replies_count',\n",
      "       'participants_count', 'likes', 'comments', 'shares', 'type'],\n",
      "      dtype='object')\n",
      "bs            11492\n",
      "bias            443\n",
      "conspiracy      430\n",
      "hate            246\n",
      "satire          146\n",
      "state           121\n",
      "junksci         102\n",
      "fake             19\n",
      "Name: type, dtype: int64\n"
     ]
    },
    {
     "data": {
      "text/html": [
       "<div>\n",
       "<style scoped>\n",
       "    .dataframe tbody tr th:only-of-type {\n",
       "        vertical-align: middle;\n",
       "    }\n",
       "\n",
       "    .dataframe tbody tr th {\n",
       "        vertical-align: top;\n",
       "    }\n",
       "\n",
       "    .dataframe thead th {\n",
       "        text-align: right;\n",
       "    }\n",
       "</style>\n",
       "<table border=\"1\" class=\"dataframe\">\n",
       "  <thead>\n",
       "    <tr style=\"text-align: right;\">\n",
       "      <th></th>\n",
       "      <th>Headline</th>\n",
       "      <th>Body</th>\n",
       "      <th>Label</th>\n",
       "    </tr>\n",
       "  </thead>\n",
       "  <tbody>\n",
       "    <tr>\n",
       "      <td>57</td>\n",
       "      <td>The Amish In America Commit Their Vote To Dona...</td>\n",
       "      <td>18 SHARE The Amish in America have committed t...</td>\n",
       "      <td>FAKE</td>\n",
       "    </tr>\n",
       "    <tr>\n",
       "      <td>58</td>\n",
       "      <td>Obama Signs Executive Order Declaring Investig...</td>\n",
       "      <td>64 SHARE President Obama has signed an Executi...</td>\n",
       "      <td>FAKE</td>\n",
       "    </tr>\n",
       "    <tr>\n",
       "      <td>379</td>\n",
       "      <td>Comment on HALLOWEEN IN THE CASTRO RETURNS IN ...</td>\n",
       "      <td>adobochron 10 Comments \\nSan Francisco, Califo...</td>\n",
       "      <td>FAKE</td>\n",
       "    </tr>\n",
       "    <tr>\n",
       "      <td>380</td>\n",
       "      <td>Comment on Tutorial: Riding The Philippine Jee...</td>\n",
       "      <td>adobochron 1 Comment \\nMANILA, Philippines (Th...</td>\n",
       "      <td>FAKE</td>\n",
       "    </tr>\n",
       "    <tr>\n",
       "      <td>381</td>\n",
       "      <td>Comment on What White House Executive Chef Com...</td>\n",
       "      <td>adobochron 1 Comment Comerford \\nWASHINGTON, D...</td>\n",
       "      <td>FAKE</td>\n",
       "    </tr>\n",
       "  </tbody>\n",
       "</table>\n",
       "</div>"
      ],
      "text/plain": [
       "                                              Headline  \\\n",
       "57   The Amish In America Commit Their Vote To Dona...   \n",
       "58   Obama Signs Executive Order Declaring Investig...   \n",
       "379  Comment on HALLOWEEN IN THE CASTRO RETURNS IN ...   \n",
       "380  Comment on Tutorial: Riding The Philippine Jee...   \n",
       "381  Comment on What White House Executive Chef Com...   \n",
       "\n",
       "                                                  Body Label  \n",
       "57   18 SHARE The Amish in America have committed t...  FAKE  \n",
       "58   64 SHARE President Obama has signed an Executi...  FAKE  \n",
       "379  adobochron 10 Comments \\nSan Francisco, Califo...  FAKE  \n",
       "380  adobochron 1 Comment \\nMANILA, Philippines (Th...  FAKE  \n",
       "381  adobochron 1 Comment Comerford \\nWASHINGTON, D...  FAKE  "
      ]
     },
     "execution_count": 11,
     "metadata": {},
     "output_type": "execute_result"
    }
   ],
   "source": [
    "\n",
    "# import second dataset 'fake.csv' which contains incorrect news \n",
    "df1 = pd.read_csv(\"/Users/aishwarya/Desktop/Mini_Project/fake.csv\");\n",
    "\n",
    "print(df1.columns)\n",
    "\n",
    "\n",
    "# print all kinds of incorrect news\n",
    "print(df1['type'].value_counts())\n",
    "\n",
    "# select only fake news \n",
    "df1 = df1.loc[df1['type']=='fake']\n",
    "df1.loc[df1['type'] == 'fake', 'type'] = 'FAKE'\n",
    "\n",
    "\n",
    "# selecting only title, text and type and renaming them\n",
    "df1 = df1[['title', 'text', 'type']]\n",
    "df1.columns = ['Headline', 'Body', 'Label']\n",
    "\n",
    "df1.head()"
   ]
  },
  {
   "cell_type": "code",
   "execution_count": 12,
   "metadata": {},
   "outputs": [
    {
     "data": {
      "text/html": [
       "<div>\n",
       "<style scoped>\n",
       "    .dataframe tbody tr th:only-of-type {\n",
       "        vertical-align: middle;\n",
       "    }\n",
       "\n",
       "    .dataframe tbody tr th {\n",
       "        vertical-align: top;\n",
       "    }\n",
       "\n",
       "    .dataframe thead th {\n",
       "        text-align: right;\n",
       "    }\n",
       "</style>\n",
       "<table border=\"1\" class=\"dataframe\">\n",
       "  <thead>\n",
       "    <tr style=\"text-align: right;\">\n",
       "      <th></th>\n",
       "      <th>Unnamed: 0</th>\n",
       "      <th>title</th>\n",
       "      <th>text</th>\n",
       "      <th>label</th>\n",
       "    </tr>\n",
       "  </thead>\n",
       "  <tbody>\n",
       "    <tr>\n",
       "      <td>0</td>\n",
       "      <td>8476</td>\n",
       "      <td>You Can Smell Hillary’s Fear</td>\n",
       "      <td>Daniel Greenfield, a Shillman Journalism Fello...</td>\n",
       "      <td>FAKE</td>\n",
       "    </tr>\n",
       "    <tr>\n",
       "      <td>1</td>\n",
       "      <td>10294</td>\n",
       "      <td>Watch The Exact Moment Paul Ryan Committed Pol...</td>\n",
       "      <td>Google Pinterest Digg Linkedin Reddit Stumbleu...</td>\n",
       "      <td>FAKE</td>\n",
       "    </tr>\n",
       "    <tr>\n",
       "      <td>2</td>\n",
       "      <td>3608</td>\n",
       "      <td>Kerry to go to Paris in gesture of sympathy</td>\n",
       "      <td>U.S. Secretary of State John F. Kerry said Mon...</td>\n",
       "      <td>REAL</td>\n",
       "    </tr>\n",
       "    <tr>\n",
       "      <td>3</td>\n",
       "      <td>10142</td>\n",
       "      <td>Bernie supporters on Twitter erupt in anger ag...</td>\n",
       "      <td>— Kaydee King (@KaydeeKing) November 9, 2016 T...</td>\n",
       "      <td>FAKE</td>\n",
       "    </tr>\n",
       "    <tr>\n",
       "      <td>4</td>\n",
       "      <td>875</td>\n",
       "      <td>The Battle of New York: Why This Primary Matters</td>\n",
       "      <td>It's primary day in New York and front-runners...</td>\n",
       "      <td>REAL</td>\n",
       "    </tr>\n",
       "  </tbody>\n",
       "</table>\n",
       "</div>"
      ],
      "text/plain": [
       "   Unnamed: 0                                              title  \\\n",
       "0        8476                       You Can Smell Hillary’s Fear   \n",
       "1       10294  Watch The Exact Moment Paul Ryan Committed Pol...   \n",
       "2        3608        Kerry to go to Paris in gesture of sympathy   \n",
       "3       10142  Bernie supporters on Twitter erupt in anger ag...   \n",
       "4         875   The Battle of New York: Why This Primary Matters   \n",
       "\n",
       "                                                text label  \n",
       "0  Daniel Greenfield, a Shillman Journalism Fello...  FAKE  \n",
       "1  Google Pinterest Digg Linkedin Reddit Stumbleu...  FAKE  \n",
       "2  U.S. Secretary of State John F. Kerry said Mon...  REAL  \n",
       "3  — Kaydee King (@KaydeeKing) November 9, 2016 T...  FAKE  \n",
       "4  It's primary day in New York and front-runners...  REAL  "
      ]
     },
     "execution_count": 12,
     "metadata": {},
     "output_type": "execute_result"
    }
   ],
   "source": [
    "# import third dataset 'fake_or_real_news.csv'\n",
    "df2 = pd.read_csv(\"/Users/aishwarya/Desktop/Mini_Project/fake_or_real_news.csv\")\n",
    "\n",
    "df2.head()"
   ]
  },
  {
   "cell_type": "code",
   "execution_count": 13,
   "metadata": {},
   "outputs": [
    {
     "data": {
      "text/html": [
       "<div>\n",
       "<style scoped>\n",
       "    .dataframe tbody tr th:only-of-type {\n",
       "        vertical-align: middle;\n",
       "    }\n",
       "\n",
       "    .dataframe tbody tr th {\n",
       "        vertical-align: top;\n",
       "    }\n",
       "\n",
       "    .dataframe thead th {\n",
       "        text-align: right;\n",
       "    }\n",
       "</style>\n",
       "<table border=\"1\" class=\"dataframe\">\n",
       "  <thead>\n",
       "    <tr style=\"text-align: right;\">\n",
       "      <th></th>\n",
       "      <th>Headline</th>\n",
       "      <th>Body</th>\n",
       "      <th>Label</th>\n",
       "    </tr>\n",
       "  </thead>\n",
       "  <tbody>\n",
       "    <tr>\n",
       "      <td>0</td>\n",
       "      <td>You Can Smell Hillary’s Fear</td>\n",
       "      <td>Daniel Greenfield, a Shillman Journalism Fello...</td>\n",
       "      <td>FAKE</td>\n",
       "    </tr>\n",
       "    <tr>\n",
       "      <td>1</td>\n",
       "      <td>Watch The Exact Moment Paul Ryan Committed Pol...</td>\n",
       "      <td>Google Pinterest Digg Linkedin Reddit Stumbleu...</td>\n",
       "      <td>FAKE</td>\n",
       "    </tr>\n",
       "    <tr>\n",
       "      <td>2</td>\n",
       "      <td>Kerry to go to Paris in gesture of sympathy</td>\n",
       "      <td>U.S. Secretary of State John F. Kerry said Mon...</td>\n",
       "      <td>REAL</td>\n",
       "    </tr>\n",
       "    <tr>\n",
       "      <td>3</td>\n",
       "      <td>Bernie supporters on Twitter erupt in anger ag...</td>\n",
       "      <td>— Kaydee King (@KaydeeKing) November 9, 2016 T...</td>\n",
       "      <td>FAKE</td>\n",
       "    </tr>\n",
       "    <tr>\n",
       "      <td>4</td>\n",
       "      <td>The Battle of New York: Why This Primary Matters</td>\n",
       "      <td>It's primary day in New York and front-runners...</td>\n",
       "      <td>REAL</td>\n",
       "    </tr>\n",
       "  </tbody>\n",
       "</table>\n",
       "</div>"
      ],
      "text/plain": [
       "                                            Headline  \\\n",
       "0                       You Can Smell Hillary’s Fear   \n",
       "1  Watch The Exact Moment Paul Ryan Committed Pol...   \n",
       "2        Kerry to go to Paris in gesture of sympathy   \n",
       "3  Bernie supporters on Twitter erupt in anger ag...   \n",
       "4   The Battle of New York: Why This Primary Matters   \n",
       "\n",
       "                                                Body Label  \n",
       "0  Daniel Greenfield, a Shillman Journalism Fello...  FAKE  \n",
       "1  Google Pinterest Digg Linkedin Reddit Stumbleu...  FAKE  \n",
       "2  U.S. Secretary of State John F. Kerry said Mon...  REAL  \n",
       "3  — Kaydee King (@KaydeeKing) November 9, 2016 T...  FAKE  \n",
       "4  It's primary day in New York and front-runners...  REAL  "
      ]
     },
     "execution_count": 13,
     "metadata": {},
     "output_type": "execute_result"
    }
   ],
   "source": [
    "# select only columns title, text and label\n",
    "df2 = df2[['title', 'text', 'label']]\n",
    "\n",
    "# rename the column names\n",
    "df2.columns = ['Headline', 'Body', 'Label']\n",
    "\n",
    "df2.head()"
   ]
  },
  {
   "cell_type": "code",
   "execution_count": 14,
   "metadata": {},
   "outputs": [
    {
     "data": {
      "text/html": [
       "<div>\n",
       "<style scoped>\n",
       "    .dataframe tbody tr th:only-of-type {\n",
       "        vertical-align: middle;\n",
       "    }\n",
       "\n",
       "    .dataframe tbody tr th {\n",
       "        vertical-align: top;\n",
       "    }\n",
       "\n",
       "    .dataframe thead th {\n",
       "        text-align: right;\n",
       "    }\n",
       "</style>\n",
       "<table border=\"1\" class=\"dataframe\">\n",
       "  <thead>\n",
       "    <tr style=\"text-align: right;\">\n",
       "      <th></th>\n",
       "      <th>id</th>\n",
       "      <th>title</th>\n",
       "      <th>author</th>\n",
       "      <th>text</th>\n",
       "      <th>label</th>\n",
       "    </tr>\n",
       "  </thead>\n",
       "  <tbody>\n",
       "    <tr>\n",
       "      <td>0</td>\n",
       "      <td>0</td>\n",
       "      <td>House Dem Aide: We Didn’t Even See Comey’s Let...</td>\n",
       "      <td>Darrell Lucus</td>\n",
       "      <td>House Dem Aide: We Didn’t Even See Comey’s Let...</td>\n",
       "      <td>1</td>\n",
       "    </tr>\n",
       "    <tr>\n",
       "      <td>1</td>\n",
       "      <td>1</td>\n",
       "      <td>FLYNN: Hillary Clinton, Big Woman on Campus - ...</td>\n",
       "      <td>Daniel J. Flynn</td>\n",
       "      <td>Ever get the feeling your life circles the rou...</td>\n",
       "      <td>0</td>\n",
       "    </tr>\n",
       "    <tr>\n",
       "      <td>2</td>\n",
       "      <td>2</td>\n",
       "      <td>Why the Truth Might Get You Fired</td>\n",
       "      <td>Consortiumnews.com</td>\n",
       "      <td>Why the Truth Might Get You Fired October 29, ...</td>\n",
       "      <td>1</td>\n",
       "    </tr>\n",
       "    <tr>\n",
       "      <td>3</td>\n",
       "      <td>3</td>\n",
       "      <td>15 Civilians Killed In Single US Airstrike Hav...</td>\n",
       "      <td>Jessica Purkiss</td>\n",
       "      <td>Videos 15 Civilians Killed In Single US Airstr...</td>\n",
       "      <td>1</td>\n",
       "    </tr>\n",
       "    <tr>\n",
       "      <td>4</td>\n",
       "      <td>4</td>\n",
       "      <td>Iranian woman jailed for fictional unpublished...</td>\n",
       "      <td>Howard Portnoy</td>\n",
       "      <td>Print \\nAn Iranian woman has been sentenced to...</td>\n",
       "      <td>1</td>\n",
       "    </tr>\n",
       "  </tbody>\n",
       "</table>\n",
       "</div>"
      ],
      "text/plain": [
       "   id                                              title              author  \\\n",
       "0   0  House Dem Aide: We Didn’t Even See Comey’s Let...       Darrell Lucus   \n",
       "1   1  FLYNN: Hillary Clinton, Big Woman on Campus - ...     Daniel J. Flynn   \n",
       "2   2                  Why the Truth Might Get You Fired  Consortiumnews.com   \n",
       "3   3  15 Civilians Killed In Single US Airstrike Hav...     Jessica Purkiss   \n",
       "4   4  Iranian woman jailed for fictional unpublished...      Howard Portnoy   \n",
       "\n",
       "                                                text  label  \n",
       "0  House Dem Aide: We Didn’t Even See Comey’s Let...      1  \n",
       "1  Ever get the feeling your life circles the rou...      0  \n",
       "2  Why the Truth Might Get You Fired October 29, ...      1  \n",
       "3  Videos 15 Civilians Killed In Single US Airstr...      1  \n",
       "4  Print \\nAn Iranian woman has been sentenced to...      1  "
      ]
     },
     "execution_count": 14,
     "metadata": {},
     "output_type": "execute_result"
    }
   ],
   "source": [
    "# importing fourth dataset 'train.csv'\n",
    "df3 = pd.read_csv(\"/Users/aishwarya/Desktop/Mini_Project/train.csv\")\n",
    "\n",
    "df3.head()\n"
   ]
  },
  {
   "cell_type": "code",
   "execution_count": 15,
   "metadata": {},
   "outputs": [
    {
     "data": {
      "text/html": [
       "<div>\n",
       "<style scoped>\n",
       "    .dataframe tbody tr th:only-of-type {\n",
       "        vertical-align: middle;\n",
       "    }\n",
       "\n",
       "    .dataframe tbody tr th {\n",
       "        vertical-align: top;\n",
       "    }\n",
       "\n",
       "    .dataframe thead th {\n",
       "        text-align: right;\n",
       "    }\n",
       "</style>\n",
       "<table border=\"1\" class=\"dataframe\">\n",
       "  <thead>\n",
       "    <tr style=\"text-align: right;\">\n",
       "      <th></th>\n",
       "      <th>Headline</th>\n",
       "      <th>Body</th>\n",
       "      <th>Label</th>\n",
       "    </tr>\n",
       "  </thead>\n",
       "  <tbody>\n",
       "    <tr>\n",
       "      <td>0</td>\n",
       "      <td>House Dem Aide: We Didn’t Even See Comey’s Let...</td>\n",
       "      <td>House Dem Aide: We Didn’t Even See Comey’s Let...</td>\n",
       "      <td>FAKE</td>\n",
       "    </tr>\n",
       "    <tr>\n",
       "      <td>1</td>\n",
       "      <td>FLYNN: Hillary Clinton, Big Woman on Campus - ...</td>\n",
       "      <td>Ever get the feeling your life circles the rou...</td>\n",
       "      <td>REAL</td>\n",
       "    </tr>\n",
       "    <tr>\n",
       "      <td>2</td>\n",
       "      <td>Why the Truth Might Get You Fired</td>\n",
       "      <td>Why the Truth Might Get You Fired October 29, ...</td>\n",
       "      <td>FAKE</td>\n",
       "    </tr>\n",
       "    <tr>\n",
       "      <td>3</td>\n",
       "      <td>15 Civilians Killed In Single US Airstrike Hav...</td>\n",
       "      <td>Videos 15 Civilians Killed In Single US Airstr...</td>\n",
       "      <td>FAKE</td>\n",
       "    </tr>\n",
       "    <tr>\n",
       "      <td>4</td>\n",
       "      <td>Iranian woman jailed for fictional unpublished...</td>\n",
       "      <td>Print \\nAn Iranian woman has been sentenced to...</td>\n",
       "      <td>FAKE</td>\n",
       "    </tr>\n",
       "  </tbody>\n",
       "</table>\n",
       "</div>"
      ],
      "text/plain": [
       "                                            Headline  \\\n",
       "0  House Dem Aide: We Didn’t Even See Comey’s Let...   \n",
       "1  FLYNN: Hillary Clinton, Big Woman on Campus - ...   \n",
       "2                  Why the Truth Might Get You Fired   \n",
       "3  15 Civilians Killed In Single US Airstrike Hav...   \n",
       "4  Iranian woman jailed for fictional unpublished...   \n",
       "\n",
       "                                                Body Label  \n",
       "0  House Dem Aide: We Didn’t Even See Comey’s Let...  FAKE  \n",
       "1  Ever get the feeling your life circles the rou...  REAL  \n",
       "2  Why the Truth Might Get You Fired October 29, ...  FAKE  \n",
       "3  Videos 15 Civilians Killed In Single US Airstr...  FAKE  \n",
       "4  Print \\nAn Iranian woman has been sentenced to...  FAKE  "
      ]
     },
     "execution_count": 15,
     "metadata": {},
     "output_type": "execute_result"
    }
   ],
   "source": [
    "# select only title, text and label columns\n",
    "df3 = df3[['title', 'text', 'label']]\n",
    "\n",
    "# rename the columns\n",
    "df3.columns = ['Headline', 'Body', 'Label']\n",
    "\n",
    "# rename the labels names from 0 and 1 to REAL and FAKE\n",
    "df3.loc[df3['Label'] == 0, 'Label'] = 'REAL'\n",
    "df3.loc[df3['Label'] == 1, 'Label'] = 'FAKE'\n",
    "\n",
    "df3.head()"
   ]
  },
  {
   "cell_type": "code",
   "execution_count": 16,
   "metadata": {},
   "outputs": [
    {
     "name": "stdout",
     "output_type": "stream",
     "text": [
      "(31163, 3)\n"
     ]
    },
    {
     "data": {
      "text/html": [
       "<div>\n",
       "<style scoped>\n",
       "    .dataframe tbody tr th:only-of-type {\n",
       "        vertical-align: middle;\n",
       "    }\n",
       "\n",
       "    .dataframe tbody tr th {\n",
       "        vertical-align: top;\n",
       "    }\n",
       "\n",
       "    .dataframe thead th {\n",
       "        text-align: right;\n",
       "    }\n",
       "</style>\n",
       "<table border=\"1\" class=\"dataframe\">\n",
       "  <thead>\n",
       "    <tr style=\"text-align: right;\">\n",
       "      <th></th>\n",
       "      <th>Headline</th>\n",
       "      <th>Body</th>\n",
       "      <th>Label</th>\n",
       "    </tr>\n",
       "  </thead>\n",
       "  <tbody>\n",
       "    <tr>\n",
       "      <td>0</td>\n",
       "      <td>Four ways Bob Corker skewered Donald Trump</td>\n",
       "      <td>Image copyright Getty Images\\nOn Sunday mornin...</td>\n",
       "      <td>REAL</td>\n",
       "    </tr>\n",
       "    <tr>\n",
       "      <td>1</td>\n",
       "      <td>Linklater's war veteran comedy speaks to moder...</td>\n",
       "      <td>LONDON (Reuters) - “Last Flag Flying”, a comed...</td>\n",
       "      <td>REAL</td>\n",
       "    </tr>\n",
       "    <tr>\n",
       "      <td>2</td>\n",
       "      <td>Trump’s Fight With Corker Jeopardizes His Legi...</td>\n",
       "      <td>The feud broke into public view last week when...</td>\n",
       "      <td>REAL</td>\n",
       "    </tr>\n",
       "    <tr>\n",
       "      <td>3</td>\n",
       "      <td>Egypt's Cheiron wins tie-up with Pemex for Mex...</td>\n",
       "      <td>MEXICO CITY (Reuters) - Egypt’s Cheiron Holdin...</td>\n",
       "      <td>REAL</td>\n",
       "    </tr>\n",
       "    <tr>\n",
       "      <td>4</td>\n",
       "      <td>Jason Aldean opens 'SNL' with Vegas tribute</td>\n",
       "      <td>Country singer Jason Aldean, who was performin...</td>\n",
       "      <td>REAL</td>\n",
       "    </tr>\n",
       "  </tbody>\n",
       "</table>\n",
       "</div>"
      ],
      "text/plain": [
       "                                            Headline  \\\n",
       "0         Four ways Bob Corker skewered Donald Trump   \n",
       "1  Linklater's war veteran comedy speaks to moder...   \n",
       "2  Trump’s Fight With Corker Jeopardizes His Legi...   \n",
       "3  Egypt's Cheiron wins tie-up with Pemex for Mex...   \n",
       "4        Jason Aldean opens 'SNL' with Vegas tribute   \n",
       "\n",
       "                                                Body Label  \n",
       "0  Image copyright Getty Images\\nOn Sunday mornin...  REAL  \n",
       "1  LONDON (Reuters) - “Last Flag Flying”, a comed...  REAL  \n",
       "2  The feud broke into public view last week when...  REAL  \n",
       "3  MEXICO CITY (Reuters) - Egypt’s Cheiron Holdin...  REAL  \n",
       "4  Country singer Jason Aldean, who was performin...  REAL  "
      ]
     },
     "execution_count": 16,
     "metadata": {},
     "output_type": "execute_result"
    }
   ],
   "source": [
    "# combine all the four datasets\n",
    "df = df.append(df1, ignore_index = True)\n",
    "df = df.append(df2, ignore_index = True)\n",
    "df = df.append(df3, ignore_index = True)\n",
    "\n",
    "print(df.shape)\n",
    "\n",
    "df.head()\n"
   ]
  },
  {
   "cell_type": "markdown",
   "metadata": {},
   "source": [
    "<h2>Data Preprocessing</h2>"
   ]
  },
  {
   "cell_type": "code",
   "execution_count": 17,
   "metadata": {},
   "outputs": [
    {
     "name": "stdout",
     "output_type": "stream",
     "text": [
      "(28019, 3)\n"
     ]
    }
   ],
   "source": [
    "# drop any duplicate data points\n",
    "df = df.drop_duplicates()\n",
    "\n",
    "print(df.shape)"
   ]
  },
  {
   "cell_type": "code",
   "execution_count": 18,
   "metadata": {},
   "outputs": [
    {
     "name": "stdout",
     "output_type": "stream",
     "text": [
      "(27865, 3)\n",
      "(27356, 3)\n"
     ]
    }
   ],
   "source": [
    "# drop from df if length of the news article is less than 10 \n",
    "i = 0\n",
    "ind = []\n",
    "\n",
    "for article in df['Body']:\n",
    "    if len(str(article)) < 10:\n",
    "        ind.append(i)\n",
    "    i = i + 1\n",
    "    \n",
    "df = df.drop(df.index[ind])\n",
    "print(df.shape)\n",
    "\n",
    "# drop any null values\n",
    "df.dropna(inplace=True)\n",
    "\n",
    "print(df.shape)\n",
    "        "
   ]
  },
  {
   "cell_type": "code",
   "execution_count": 19,
   "metadata": {},
   "outputs": [
    {
     "data": {
      "text/plain": [
       "REAL    15259\n",
       "FAKE    12097\n",
       "Name: Label, dtype: int64"
      ]
     },
     "execution_count": 19,
     "metadata": {},
     "output_type": "execute_result"
    }
   ],
   "source": [
    "# inspect the ratio of labels\n",
    "df['Label'].value_counts()"
   ]
  },
  {
   "cell_type": "code",
   "execution_count": 20,
   "metadata": {},
   "outputs": [
    {
     "data": {
      "text/plain": [
       "<matplotlib.axes._subplots.AxesSubplot at 0x1a1b8f5d10>"
      ]
     },
     "execution_count": 20,
     "metadata": {},
     "output_type": "execute_result"
    },
    {
     "data": {
      "image/png": "[encoded data removed]",
      "text/plain": [
       "<Figure size 432x288 with 1 Axes>"
      ]
     },
     "metadata": {
      "needs_background": "light"
     },
     "output_type": "display_data"
    }
   ],
   "source": [
    "df['Label'].value_counts().plot(kind = 'bar')"
   ]
  },
  {
   "cell_type": "code",
   "execution_count": 21,
   "metadata": {
    "scrolled": true
   },
   "outputs": [
    {
     "data": {
      "text/html": [
       "<div>\n",
       "<style scoped>\n",
       "    .dataframe tbody tr th:only-of-type {\n",
       "        vertical-align: middle;\n",
       "    }\n",
       "\n",
       "    .dataframe tbody tr th {\n",
       "        vertical-align: top;\n",
       "    }\n",
       "\n",
       "    .dataframe thead th {\n",
       "        text-align: right;\n",
       "    }\n",
       "</style>\n",
       "<table border=\"1\" class=\"dataframe\">\n",
       "  <thead>\n",
       "    <tr style=\"text-align: right;\">\n",
       "      <th></th>\n",
       "      <th>Headline</th>\n",
       "      <th>Body</th>\n",
       "      <th>Label</th>\n",
       "      <th>Text</th>\n",
       "    </tr>\n",
       "  </thead>\n",
       "  <tbody>\n",
       "    <tr>\n",
       "      <td>0</td>\n",
       "      <td>Four ways Bob Corker skewered Donald Trump</td>\n",
       "      <td>Image copyright Getty Images\\nOn Sunday mornin...</td>\n",
       "      <td>REAL</td>\n",
       "      <td>Four ways Bob Corker skewered Donald Trump Ima...</td>\n",
       "    </tr>\n",
       "    <tr>\n",
       "      <td>1</td>\n",
       "      <td>Linklater's war veteran comedy speaks to moder...</td>\n",
       "      <td>LONDON (Reuters) - “Last Flag Flying”, a comed...</td>\n",
       "      <td>REAL</td>\n",
       "      <td>Linklater's war veteran comedy speaks to moder...</td>\n",
       "    </tr>\n",
       "    <tr>\n",
       "      <td>2</td>\n",
       "      <td>Trump’s Fight With Corker Jeopardizes His Legi...</td>\n",
       "      <td>The feud broke into public view last week when...</td>\n",
       "      <td>REAL</td>\n",
       "      <td>Trump’s Fight With Corker Jeopardizes His Legi...</td>\n",
       "    </tr>\n",
       "    <tr>\n",
       "      <td>3</td>\n",
       "      <td>Egypt's Cheiron wins tie-up with Pemex for Mex...</td>\n",
       "      <td>MEXICO CITY (Reuters) - Egypt’s Cheiron Holdin...</td>\n",
       "      <td>REAL</td>\n",
       "      <td>Egypt's Cheiron wins tie-up with Pemex for Mex...</td>\n",
       "    </tr>\n",
       "    <tr>\n",
       "      <td>4</td>\n",
       "      <td>Jason Aldean opens 'SNL' with Vegas tribute</td>\n",
       "      <td>Country singer Jason Aldean, who was performin...</td>\n",
       "      <td>REAL</td>\n",
       "      <td>Jason Aldean opens 'SNL' with Vegas tribute Co...</td>\n",
       "    </tr>\n",
       "  </tbody>\n",
       "</table>\n",
       "</div>"
      ],
      "text/plain": [
       "                                            Headline  \\\n",
       "0         Four ways Bob Corker skewered Donald Trump   \n",
       "1  Linklater's war veteran comedy speaks to moder...   \n",
       "2  Trump’s Fight With Corker Jeopardizes His Legi...   \n",
       "3  Egypt's Cheiron wins tie-up with Pemex for Mex...   \n",
       "4        Jason Aldean opens 'SNL' with Vegas tribute   \n",
       "\n",
       "                                                Body Label  \\\n",
       "0  Image copyright Getty Images\\nOn Sunday mornin...  REAL   \n",
       "1  LONDON (Reuters) - “Last Flag Flying”, a comed...  REAL   \n",
       "2  The feud broke into public view last week when...  REAL   \n",
       "3  MEXICO CITY (Reuters) - Egypt’s Cheiron Holdin...  REAL   \n",
       "4  Country singer Jason Aldean, who was performin...  REAL   \n",
       "\n",
       "                                                Text  \n",
       "0  Four ways Bob Corker skewered Donald Trump Ima...  \n",
       "1  Linklater's war veteran comedy speaks to moder...  \n",
       "2  Trump’s Fight With Corker Jeopardizes His Legi...  \n",
       "3  Egypt's Cheiron wins tie-up with Pemex for Mex...  \n",
       "4  Jason Aldean opens 'SNL' with Vegas tribute Co...  "
      ]
     },
     "execution_count": 21,
     "metadata": {},
     "output_type": "execute_result"
    }
   ],
   "source": [
    "# combining Headine and Body \n",
    "df['Text'] = df['Headline'] + \" \" + df['Body']\n",
    "\n",
    "df.head()\n"
   ]
  },
  {
   "cell_type": "code",
   "execution_count": 22,
   "metadata": {},
   "outputs": [],
   "source": [
    "# Clean text\n",
    "def clean_text(text):\n",
    "    # remove punctuation\n",
    "    text = re.sub('['+string.punctuation+']', '', text)\n",
    "    text = re.sub(r\"[-()\\\"#/@’;:<>{}`+=~|.!?,]\", \"\", text)\n",
    "    \n",
    "    # convert words to lower case and split\n",
    "    text = text.lower().split()\n",
    "    \n",
    "    # remove stop words\n",
    "    stops = set(stopwords.words(\"english\"))\n",
    "    text = [w for w in text if w not in stops]\n",
    "    text = \" \".join(text)\n",
    "    \n",
    "    # remove all non english and numbers etc.\n",
    "    text = re.sub(r'[^a-zA-Z\\s]', u'', text, flags=re.UNICODE)\n",
    "    \n",
    "    # lemmatizing\n",
    "    text = text.split()\n",
    "    l = WordNetLemmatizer()\n",
    "    lemmatized_words = [l.lemmatize(word) for word in text]\n",
    "    text = \" \".join(lemmatized_words)\n",
    "    \n",
    "    return text\n",
    "\n",
    "# apply clean_text on Text columnxx\n",
    "df['Clean_Text'] = df['Text'].apply(lambda x: clean_text(x))\n",
    "df.dropna(inplace=True)\n",
    "    "
   ]
  },
  {
   "cell_type": "code",
   "execution_count": 23,
   "metadata": {},
   "outputs": [
    {
     "data": {
      "text/html": [
       "<div>\n",
       "<style scoped>\n",
       "    .dataframe tbody tr th:only-of-type {\n",
       "        vertical-align: middle;\n",
       "    }\n",
       "\n",
       "    .dataframe tbody tr th {\n",
       "        vertical-align: top;\n",
       "    }\n",
       "\n",
       "    .dataframe thead th {\n",
       "        text-align: right;\n",
       "    }\n",
       "</style>\n",
       "<table border=\"1\" class=\"dataframe\">\n",
       "  <thead>\n",
       "    <tr style=\"text-align: right;\">\n",
       "      <th></th>\n",
       "      <th>Headline</th>\n",
       "      <th>Body</th>\n",
       "      <th>Label</th>\n",
       "      <th>Text</th>\n",
       "      <th>Clean_Text</th>\n",
       "    </tr>\n",
       "  </thead>\n",
       "  <tbody>\n",
       "    <tr>\n",
       "      <td>0</td>\n",
       "      <td>Four ways Bob Corker skewered Donald Trump</td>\n",
       "      <td>Image copyright Getty Images\\nOn Sunday mornin...</td>\n",
       "      <td>REAL</td>\n",
       "      <td>Four ways Bob Corker skewered Donald Trump Ima...</td>\n",
       "      <td>four way bob corker skewered donald trump imag...</td>\n",
       "    </tr>\n",
       "    <tr>\n",
       "      <td>1</td>\n",
       "      <td>Linklater's war veteran comedy speaks to moder...</td>\n",
       "      <td>LONDON (Reuters) - “Last Flag Flying”, a comed...</td>\n",
       "      <td>REAL</td>\n",
       "      <td>Linklater's war veteran comedy speaks to moder...</td>\n",
       "      <td>linklaters war veteran comedy speaks modern am...</td>\n",
       "    </tr>\n",
       "    <tr>\n",
       "      <td>2</td>\n",
       "      <td>Trump’s Fight With Corker Jeopardizes His Legi...</td>\n",
       "      <td>The feud broke into public view last week when...</td>\n",
       "      <td>REAL</td>\n",
       "      <td>Trump’s Fight With Corker Jeopardizes His Legi...</td>\n",
       "      <td>trump fight corker jeopardizes legislative age...</td>\n",
       "    </tr>\n",
       "    <tr>\n",
       "      <td>3</td>\n",
       "      <td>Egypt's Cheiron wins tie-up with Pemex for Mex...</td>\n",
       "      <td>MEXICO CITY (Reuters) - Egypt’s Cheiron Holdin...</td>\n",
       "      <td>REAL</td>\n",
       "      <td>Egypt's Cheiron wins tie-up with Pemex for Mex...</td>\n",
       "      <td>egypt cheiron win tieup pemex mexican onshore ...</td>\n",
       "    </tr>\n",
       "    <tr>\n",
       "      <td>4</td>\n",
       "      <td>Jason Aldean opens 'SNL' with Vegas tribute</td>\n",
       "      <td>Country singer Jason Aldean, who was performin...</td>\n",
       "      <td>REAL</td>\n",
       "      <td>Jason Aldean opens 'SNL' with Vegas tribute Co...</td>\n",
       "      <td>jason aldean open snl vega tribute country sin...</td>\n",
       "    </tr>\n",
       "  </tbody>\n",
       "</table>\n",
       "</div>"
      ],
      "text/plain": [
       "                                            Headline  \\\n",
       "0         Four ways Bob Corker skewered Donald Trump   \n",
       "1  Linklater's war veteran comedy speaks to moder...   \n",
       "2  Trump’s Fight With Corker Jeopardizes His Legi...   \n",
       "3  Egypt's Cheiron wins tie-up with Pemex for Mex...   \n",
       "4        Jason Aldean opens 'SNL' with Vegas tribute   \n",
       "\n",
       "                                                Body Label  \\\n",
       "0  Image copyright Getty Images\\nOn Sunday mornin...  REAL   \n",
       "1  LONDON (Reuters) - “Last Flag Flying”, a comed...  REAL   \n",
       "2  The feud broke into public view last week when...  REAL   \n",
       "3  MEXICO CITY (Reuters) - Egypt’s Cheiron Holdin...  REAL   \n",
       "4  Country singer Jason Aldean, who was performin...  REAL   \n",
       "\n",
       "                                                Text  \\\n",
       "0  Four ways Bob Corker skewered Donald Trump Ima...   \n",
       "1  Linklater's war veteran comedy speaks to moder...   \n",
       "2  Trump’s Fight With Corker Jeopardizes His Legi...   \n",
       "3  Egypt's Cheiron wins tie-up with Pemex for Mex...   \n",
       "4  Jason Aldean opens 'SNL' with Vegas tribute Co...   \n",
       "\n",
       "                                          Clean_Text  \n",
       "0  four way bob corker skewered donald trump imag...  \n",
       "1  linklaters war veteran comedy speaks modern am...  \n",
       "2  trump fight corker jeopardizes legislative age...  \n",
       "3  egypt cheiron win tieup pemex mexican onshore ...  \n",
       "4  jason aldean open snl vega tribute country sin...  "
      ]
     },
     "execution_count": 23,
     "metadata": {},
     "output_type": "execute_result"
    }
   ],
   "source": [
    "df.head()"
   ]
  },
  {
   "cell_type": "markdown",
   "metadata": {},
   "source": [
    "<h2> Splitting into training and testing sets </h2>"
   ]
  },
  {
   "cell_type": "code",
   "execution_count": 24,
   "metadata": {},
   "outputs": [
    {
     "name": "stdout",
     "output_type": "stream",
     "text": [
      "27534    guilt quiz guilt level chart tool guilted age ...\n",
      "12973    mainstream medium monopoly arrival new medium ...\n",
      "5240     comment strange fact president tania de saram ...\n",
      "17740               rt arabic gmt httparrtcomigk rt arabic\n",
      "1035     odell beckham jr new york giant wide receiver ...\n",
      "Name: Clean_Text, dtype: object\n",
      "\n",
      "27534    FAKE\n",
      "12973    FAKE\n",
      "5240     FAKE\n",
      "17740    FAKE\n",
      "1035     REAL\n",
      "Name: Label, dtype: object\n"
     ]
    }
   ],
   "source": [
    "# set y\n",
    "y = df['Label'].astype('str') \n",
    "\n",
    "# Make train and test sets\n",
    "X_train, X_test, y_train, y_test = train_test_split(df['Clean_Text'], y, test_size = 0.33, random_state = 53)\n",
    "\n",
    "print(X_train.head())\n",
    "print()\n",
    "print(y_train.head())\n"
   ]
  },
  {
   "cell_type": "markdown",
   "metadata": {},
   "source": [
    "<h2>TFIDF Vectorization</h2>"
   ]
  },
  {
   "cell_type": "code",
   "execution_count": 25,
   "metadata": {},
   "outputs": [
    {
     "name": "stdout",
     "output_type": "stream",
     "text": [
      "['aa aa', 'aa armament', 'aa ball', 'aa birmingham', 'aa classmate', 'aa coveted', 'aa division', 'aa fa', 'aa firecontrol', 'aa firepower']\n"
     ]
    }
   ],
   "source": [
    "tfidf_vectorizer = TfidfVectorizer(stop_words='english', ngram_range = (2, 2))\n",
    "\n",
    "tfidf_train = tfidf_vectorizer.fit_transform(X_train)\n",
    "\n",
    "tfidf_test = tfidf_vectorizer.transform(X_test)\n",
    "\n",
    "print(tfidf_vectorizer.get_feature_names()[:10])"
   ]
  },
  {
   "cell_type": "code",
   "execution_count": 26,
   "metadata": {},
   "outputs": [],
   "source": [
    "# confusion matrix function definition\n",
    "def plot_confusion_matrix(cm, classes,\n",
    "                          normalize=False,\n",
    "                          title='Confusion matrix',\n",
    "                          cmap=plt.cm.Blues):\n",
    "\n",
    "    plt.imshow(cm, interpolation='nearest', cmap=cmap)\n",
    "    plt.title(title)\n",
    "    plt.colorbar()\n",
    "    tick_marks = np.arange(len(classes))\n",
    "    plt.xticks(tick_marks, classes, rotation=45)\n",
    "    plt.yticks(tick_marks, classes)\n",
    "\n",
    "    thresh = cm.max() / 2.\n",
    "    for i, j in itertools.product(range(cm.shape[0]), range(cm.shape[1])):\n",
    "        plt.text(j, i, cm[i, j],\n",
    "                 horizontalalignment=\"center\",\n",
    "                 color=\"white\" if cm[i, j] > thresh else \"black\")\n",
    "\n",
    "    plt.tight_layout()\n",
    "    plt.ylabel('True label')\n",
    "    plt.xlabel('Predicted label')\n",
    "    plt.tight_layout()\n",
    "    plt.ylim([1.5, -.5])\n",
    "    plt.show()"
   ]
  },
  {
   "cell_type": "code",
   "execution_count": 27,
   "metadata": {},
   "outputs": [
    {
     "name": "stderr",
     "output_type": "stream",
     "text": [
      "/opt/anaconda3/lib/python3.7/site-packages/sklearn/naive_bayes.py:485: UserWarning: alpha too small will result in numeric errors, setting alpha = 1.0e-10\n",
      "  'setting alpha = %.1e' % _ALPHA_MIN)\n"
     ]
    },
    {
     "name": "stdout",
     "output_type": "stream",
     "text": [
      "ACCURACY 0.8390562693841382\n",
      "Confusion Matrix: \n",
      "[[2507 1429]\n",
      " [  24 5068]]\n"
     ]
    },
    {
     "data": {
      "image/png": "[encoded data removed]",
      "text/plain": [
       "<Figure size 432x288 with 2 Axes>"
      ]
     },
     "metadata": {
      "needs_background": "light"
     },
     "output_type": "display_data"
    }
   ],
   "source": [
    "# naive Bayes model for TFIDF bigrams\n",
    "nb_classifier = MultinomialNB(alpha=0.0)\n",
    "\n",
    "nb_classifier.fit(tfidf_train, y_train)\n",
    "\n",
    "pred = nb_classifier.predict(tfidf_test)\n",
    "\n",
    "# calculate and print accuracy of model\n",
    "score = metrics.accuracy_score(y_test, pred)\n",
    "print('ACCURACY', score)\n",
    "\n",
    "# calculate and print confusion matrix\n",
    "cm = metrics.confusion_matrix(y_test, pred, labels=['FAKE', 'REAL'])\n",
    "print('Confusion Matrix: ')\n",
    "print(cm)\n",
    "plot_confusion_matrix(cm, classes=['FAKE', 'REAL'])\n"
   ]
  },
  {
   "cell_type": "code",
   "execution_count": 28,
   "metadata": {},
   "outputs": [
    {
     "name": "stdout",
     "output_type": "stream",
     "text": [
      "Alpha:  0.0\n"
     ]
    },
    {
     "name": "stderr",
     "output_type": "stream",
     "text": [
      "/opt/anaconda3/lib/python3.7/site-packages/sklearn/naive_bayes.py:485: UserWarning: alpha too small will result in numeric errors, setting alpha = 1.0e-10\n",
      "  'setting alpha = %.1e' % _ALPHA_MIN)\n"
     ]
    },
    {
     "name": "stdout",
     "output_type": "stream",
     "text": [
      "Score:  0.8390562693841382\n",
      "\n",
      "Alpha:  0.1\n",
      "Score:  0.8913380593708462\n",
      "\n",
      "Alpha:  0.2\n",
      "Score:  0.8732831191847585\n",
      "\n",
      "Alpha:  0.30000000000000004\n",
      "Score:  0.8620957022596367\n",
      "\n",
      "Alpha:  0.4\n",
      "Score:  0.8535666814355339\n",
      "\n",
      "Alpha:  0.5\n",
      "Score:  0.8460345591493132\n",
      "\n",
      "Alpha:  0.6000000000000001\n",
      "Score:  0.8407177669472752\n",
      "\n",
      "Alpha:  0.7000000000000001\n",
      "Score:  0.8363978732831192\n",
      "\n",
      "Alpha:  0.8\n",
      "Score:  0.8319672131147541\n",
      "\n",
      "Alpha:  0.9\n",
      "Score:  0.8287549844926894\n",
      "\n"
     ]
    }
   ],
   "source": [
    "# improving naive bayes model by testing with different alpha levels\n",
    "\n",
    "alphas = np.arange(0, 1, 0.1)\n",
    "\n",
    "# define train_and_predict()\n",
    "def train_and_predict(alpha):\n",
    "    # instantiate the classifier\n",
    "    nb_classifier = MultinomialNB(alpha=alpha)\n",
    "    # fit to training data\n",
    "    nb_classifier.fit(tfidf_train, y_train)\n",
    "    # predict the labels\n",
    "    pred = nb_classifier.predict(tfidf_test)\n",
    "    # calculate accuracy score\n",
    "    score = metrics.accuracy_score(y_test, pred)\n",
    "    return score\n",
    "\n",
    "\n",
    "\n",
    "# iterate over alphas and print the corresponding score\n",
    "for alpha in alphas:\n",
    "    print('Alpha: ', alpha)\n",
    "    print('Score: ', train_and_predict(alpha))\n",
    "    print()"
   ]
  },
  {
   "cell_type": "code",
   "execution_count": 29,
   "metadata": {},
   "outputs": [
    {
     "name": "stderr",
     "output_type": "stream",
     "text": [
      "/opt/anaconda3/lib/python3.7/site-packages/sklearn/ensemble/forest.py:245: FutureWarning: The default value of n_estimators will change from 10 in version 0.20 to 100 in 0.22.\n",
      "  \"10 in version 0.20 to 100 in 0.22.\", FutureWarning)\n",
      "[Parallel(n_jobs=1)]: Using backend SequentialBackend with 1 concurrent workers.\n",
      "[Parallel(n_jobs=1)]: Done  10 out of  10 | elapsed:   39.4s finished\n",
      "[Parallel(n_jobs=1)]: Using backend SequentialBackend with 1 concurrent workers.\n"
     ]
    },
    {
     "name": "stdout",
     "output_type": "stream",
     "text": [
      "ACCURACY:  0.8812583074878156\n",
      "Confusion Matrix: \n",
      "[[3563  373]\n",
      " [ 699 4393]]\n"
     ]
    },
    {
     "name": "stderr",
     "output_type": "stream",
     "text": [
      "[Parallel(n_jobs=1)]: Done  10 out of  10 | elapsed:    0.5s finished\n"
     ]
    },
    {
     "data": {
      "image/png": "[encoded data removed]",
      "text/plain": [
       "<Figure size 432x288 with 2 Axes>"
      ]
     },
     "metadata": {
      "needs_background": "light"
     },
     "output_type": "display_data"
    }
   ],
   "source": [
    "# random forest model for TFIDF bigrams\n",
    "rf_classifier = RandomForestClassifier(verbose=True)\n",
    "\n",
    "rf_classifier.fit(tfidf_train, y_train)\n",
    "\n",
    "pred = rf_classifier.predict(tfidf_test)\n",
    "\n",
    "# accuracy\n",
    "score = metrics.accuracy_score(y_test, pred)\n",
    "print('ACCURACY: ', score)\n",
    "\n",
    "# confusion matrix\n",
    "cm = metrics.confusion_matrix(y_test, pred, labels=['FAKE', 'REAL'])\n",
    "print('Confusion Matrix: ')\n",
    "print(cm)\n",
    "plot_confusion_matrix(cm, classes=['FAKE', 'REAL'])\n",
    "\n"
   ]
  },
  {
   "cell_type": "code",
   "execution_count": 30,
   "metadata": {},
   "outputs": [
    {
     "name": "stdout",
     "output_type": "stream",
     "text": [
      "      Iter       Train Loss   Remaining Time \n",
      "         1           1.3142           14.30m\n",
      "         2           1.2652           13.81m\n",
      "         3           1.2233           13.48m\n",
      "         4           1.1889           13.21m\n",
      "         5           1.1583           12.97m\n",
      "         6           1.1322           12.76m\n",
      "         7           1.1099           12.65m\n",
      "         8           1.0903           12.62m\n",
      "         9           1.0730           12.42m\n",
      "        10           1.0576           12.21m\n",
      "        20           0.9620           10.88m\n",
      "        30           0.9155            9.37m\n",
      "        40           0.8819            8.09m\n",
      "        50           0.8545            6.87m\n",
      "        60           0.8290            5.56m\n",
      "        70           0.8090            4.19m\n",
      "        80           0.7898            2.77m\n",
      "        90           0.7739            1.37m\n",
      "       100           0.7576            0.00s\n",
      "ACCURACY:  0.8489144882587506\n",
      "Confusion Matrix: \n",
      "[[3710  226]\n",
      " [1138 3954]]\n"
     ]
    },
    {
     "data": {
      "image/png": "[encoded data removed]",
      "text/plain": [
       "<Figure size 432x288 with 2 Axes>"
      ]
     },
     "metadata": {
      "needs_background": "light"
     },
     "output_type": "display_data"
    }
   ],
   "source": [
    "# gradiant Boost model for TFIDF bigrams\n",
    "gb_classifier = GradientBoostingClassifier(verbose=True)\n",
    "\n",
    "gb_classifier.fit(tfidf_train, y_train)\n",
    "\n",
    "pred = gb_classifier.predict(tfidf_test)\n",
    "\n",
    "# accuracy\n",
    "score = metrics.accuracy_score(y_test, pred)\n",
    "print('ACCURACY: ', score)\n",
    "\n",
    "# confusion matrix\n",
    "cm = metrics.confusion_matrix(y_test, pred, labels=['FAKE', 'REAL'])\n",
    "print('Confusion Matrix: ')\n",
    "print(cm)\n",
    "plot_confusion_matrix(cm, classes=['FAKE', 'REAL'])"
   ]
  },
  {
   "cell_type": "markdown",
   "metadata": {},
   "source": [
    "<h2> POS Tagging </h2>"
   ]
  },
  {
   "cell_type": "code",
   "execution_count": 67,
   "metadata": {},
   "outputs": [
    {
     "data": {
      "text/html": [
       "<div>\n",
       "<style scoped>\n",
       "    .dataframe tbody tr th:only-of-type {\n",
       "        vertical-align: middle;\n",
       "    }\n",
       "\n",
       "    .dataframe tbody tr th {\n",
       "        vertical-align: top;\n",
       "    }\n",
       "\n",
       "    .dataframe thead th {\n",
       "        text-align: right;\n",
       "    }\n",
       "</style>\n",
       "<table border=\"1\" class=\"dataframe\">\n",
       "  <thead>\n",
       "    <tr style=\"text-align: right;\">\n",
       "      <th></th>\n",
       "      <th>Headline</th>\n",
       "      <th>Body</th>\n",
       "      <th>Label</th>\n",
       "      <th>Text</th>\n",
       "      <th>Clean_Text</th>\n",
       "      <th>Text_POS</th>\n",
       "      <th>Semantic</th>\n",
       "      <th>Semantics</th>\n",
       "    </tr>\n",
       "  </thead>\n",
       "  <tbody>\n",
       "    <tr>\n",
       "      <td>0</td>\n",
       "      <td>Four ways Bob Corker skewered Donald Trump</td>\n",
       "      <td>Image copyright Getty Images\\nOn Sunday mornin...</td>\n",
       "      <td>REAL</td>\n",
       "      <td>Four ways Bob Corker skewered Donald Trump Ima...</td>\n",
       "      <td>four way bob corker skewered donald trump imag...</td>\n",
       "      <td>NUM NOUN PROPN PROPN VERB PROPN PROPN PROPN NO...</td>\n",
       "      <td>[2.0, 6.0, 1.0, 2.0, 2.0, 2.0, 0.0, 0.0, 2.0, ...</td>\n",
       "      <td>help help office office office office office o...</td>\n",
       "    </tr>\n",
       "    <tr>\n",
       "      <td>1</td>\n",
       "      <td>Linklater's war veteran comedy speaks to moder...</td>\n",
       "      <td>LONDON (Reuters) - “Last Flag Flying”, a comed...</td>\n",
       "      <td>REAL</td>\n",
       "      <td>Linklater's war veteran comedy speaks to moder...</td>\n",
       "      <td>linklaters war veteran comedy speaks modern am...</td>\n",
       "      <td>PROPN PART NOUN NOUN NOUN VERB ADP ADJ PROPN P...</td>\n",
       "      <td>[1.0, 3.0, 0.0, 0.0, 2.0, 0.0, 0.0, 0.0, 1.0, ...</td>\n",
       "      <td>help office office office wedding wedding cold...</td>\n",
       "    </tr>\n",
       "    <tr>\n",
       "      <td>2</td>\n",
       "      <td>Trump’s Fight With Corker Jeopardizes His Legi...</td>\n",
       "      <td>The feud broke into public view last week when...</td>\n",
       "      <td>REAL</td>\n",
       "      <td>Trump’s Fight With Corker Jeopardizes His Legi...</td>\n",
       "      <td>trump fight corker jeopardizes legislative age...</td>\n",
       "      <td>PROPN PROPN PROPN ADP PROPN PROPN DET ADJ PROP...</td>\n",
       "      <td>[1.0, 9.0, 1.0, 2.0, 5.0, 3.0, 0.0, 2.0, 0.0, ...</td>\n",
       "      <td>help office office office office office office...</td>\n",
       "    </tr>\n",
       "    <tr>\n",
       "      <td>3</td>\n",
       "      <td>Egypt's Cheiron wins tie-up with Pemex for Mex...</td>\n",
       "      <td>MEXICO CITY (Reuters) - Egypt’s Cheiron Holdin...</td>\n",
       "      <td>REAL</td>\n",
       "      <td>Egypt's Cheiron wins tie-up with Pemex for Mex...</td>\n",
       "      <td>egypt cheiron win tieup pemex mexican onshore ...</td>\n",
       "      <td>PROPN PART PROPN VERB VERB PUNCT NOUN ADP PROP...</td>\n",
       "      <td>[0.0, 0.0, 0.0, 0.0, 0.0, 0.0, 0.0, 0.0, 0.0, ...</td>\n",
       "      <td>banking play business business sports sports h...</td>\n",
       "    </tr>\n",
       "    <tr>\n",
       "      <td>4</td>\n",
       "      <td>Jason Aldean opens 'SNL' with Vegas tribute</td>\n",
       "      <td>Country singer Jason Aldean, who was performin...</td>\n",
       "      <td>REAL</td>\n",
       "      <td>Jason Aldean opens 'SNL' with Vegas tribute Co...</td>\n",
       "      <td>jason aldean open snl vega tribute country sin...</td>\n",
       "      <td>PROPN PROPN VERB PUNCT PROPN PUNCT ADP PROPN N...</td>\n",
       "      <td>[0.0, 0.0, 0.0, 0.0, 0.0, 0.0, 0.0, 0.0, 1.0, ...</td>\n",
       "      <td>cold occupation school art weather music music...</td>\n",
       "    </tr>\n",
       "  </tbody>\n",
       "</table>\n",
       "</div>"
      ],
      "text/plain": [
       "                                            Headline  \\\n",
       "0         Four ways Bob Corker skewered Donald Trump   \n",
       "1  Linklater's war veteran comedy speaks to moder...   \n",
       "2  Trump’s Fight With Corker Jeopardizes His Legi...   \n",
       "3  Egypt's Cheiron wins tie-up with Pemex for Mex...   \n",
       "4        Jason Aldean opens 'SNL' with Vegas tribute   \n",
       "\n",
       "                                                Body Label  \\\n",
       "0  Image copyright Getty Images\\nOn Sunday mornin...  REAL   \n",
       "1  LONDON (Reuters) - “Last Flag Flying”, a comed...  REAL   \n",
       "2  The feud broke into public view last week when...  REAL   \n",
       "3  MEXICO CITY (Reuters) - Egypt’s Cheiron Holdin...  REAL   \n",
       "4  Country singer Jason Aldean, who was performin...  REAL   \n",
       "\n",
       "                                                Text  \\\n",
       "0  Four ways Bob Corker skewered Donald Trump Ima...   \n",
       "1  Linklater's war veteran comedy speaks to moder...   \n",
       "2  Trump’s Fight With Corker Jeopardizes His Legi...   \n",
       "3  Egypt's Cheiron wins tie-up with Pemex for Mex...   \n",
       "4  Jason Aldean opens 'SNL' with Vegas tribute Co...   \n",
       "\n",
       "                                          Clean_Text  \\\n",
       "0  four way bob corker skewered donald trump imag...   \n",
       "1  linklaters war veteran comedy speaks modern am...   \n",
       "2  trump fight corker jeopardizes legislative age...   \n",
       "3  egypt cheiron win tieup pemex mexican onshore ...   \n",
       "4  jason aldean open snl vega tribute country sin...   \n",
       "\n",
       "                                            Text_POS  \\\n",
       "0  NUM NOUN PROPN PROPN VERB PROPN PROPN PROPN NO...   \n",
       "1  PROPN PART NOUN NOUN NOUN VERB ADP ADJ PROPN P...   \n",
       "2  PROPN PROPN PROPN ADP PROPN PROPN DET ADJ PROP...   \n",
       "3  PROPN PART PROPN VERB VERB PUNCT NOUN ADP PROP...   \n",
       "4  PROPN PROPN VERB PUNCT PROPN PUNCT ADP PROPN N...   \n",
       "\n",
       "                                            Semantic  \\\n",
       "0  [2.0, 6.0, 1.0, 2.0, 2.0, 2.0, 0.0, 0.0, 2.0, ...   \n",
       "1  [1.0, 3.0, 0.0, 0.0, 2.0, 0.0, 0.0, 0.0, 1.0, ...   \n",
       "2  [1.0, 9.0, 1.0, 2.0, 5.0, 3.0, 0.0, 2.0, 0.0, ...   \n",
       "3  [0.0, 0.0, 0.0, 0.0, 0.0, 0.0, 0.0, 0.0, 0.0, ...   \n",
       "4  [0.0, 0.0, 0.0, 0.0, 0.0, 0.0, 0.0, 0.0, 1.0, ...   \n",
       "\n",
       "                                           Semantics  \n",
       "0  help help office office office office office o...  \n",
       "1  help office office office wedding wedding cold...  \n",
       "2  help office office office office office office...  \n",
       "3  banking play business business sports sports h...  \n",
       "4  cold occupation school art weather music music...  "
      ]
     },
     "execution_count": 67,
     "metadata": {},
     "output_type": "execute_result"
    }
   ],
   "source": [
    "# Generate POS tags \n",
    "nlp = spacy.load('en')\n",
    "\n",
    "pos_tags_column = []\n",
    "\n",
    "for text in df['Text']:\n",
    "    pos_tags = []\n",
    "    doc = nlp(text)\n",
    "    for token in doc:\n",
    "        pos_tags.append(token.pos_)\n",
    "    all_pos_tags = ' '.join(pos_tags)\n",
    "    pos_tags_column.append(all_pos_tags)\n",
    "    \n",
    "df['Text_POS'] = pos_tags_column\n",
    "\n",
    "df.head()\n",
    "\n"
   ]
  },
  {
   "cell_type": "code",
   "execution_count": 68,
   "metadata": {},
   "outputs": [
    {
     "name": "stdout",
     "output_type": "stream",
     "text": [
      "27534    PROPN PROPN CCONJ PROPN PROPN PROPN PUNCT NOUN...\n",
      "12973    DET PROPN PROPN PROPN VERB ADP DET NOUN ADP AD...\n",
      "5240     NOUN ADP NUM ADJ NOUN ADP DET NOUN ADP NOUN X ...\n",
      "17740    ADJ NOUN VERB NOUN NOUN NOUN ADP NOUN PUNCT NO...\n",
      "1035     PROPN PROPN PROPN PUNCT PROPN PROPN PROPN ADJ ...\n",
      "Name: Text_POS, dtype: object\n",
      "27534    FAKE\n",
      "12973    FAKE\n",
      "5240     FAKE\n",
      "17740    FAKE\n",
      "1035     REAL\n",
      "Name: Label, dtype: object\n"
     ]
    }
   ],
   "source": [
    "# split into training and testing sets using Text_POS \n",
    "y = df['Label'].astype('str')\n",
    "X_train, X_test, y_train, y_test = train_test_split(df['Text_POS'], y, test_size = 0.33, random_state = 53)\n",
    "print(X_train.head())\n",
    "print(y_train.head())\n"
   ]
  },
  {
   "cell_type": "code",
   "execution_count": 69,
   "metadata": {},
   "outputs": [
    {
     "data": {
      "text/plain": [
       "['adj adj',\n",
       " 'adj adp',\n",
       " 'adj adv',\n",
       " 'adj aux',\n",
       " 'adj cconj',\n",
       " 'adj det',\n",
       " 'adj intj',\n",
       " 'adj noun',\n",
       " 'adj num',\n",
       " 'adj pron']"
      ]
     },
     "execution_count": 69,
     "metadata": {},
     "output_type": "execute_result"
    }
   ],
   "source": [
    "# Generating TFIDF bigrams of POS tags\n",
    "pos_tfidf_vectorizer = TfidfVectorizer(stop_words='english', ngram_range = (2,2))\n",
    "pos_tfidf_train = pos_tfidf_vectorizer.fit_transform(X_train.astype('str'))\n",
    "pos_tfidf_test= pos_tfidf_vectorizer.transform(X_test.astype('str'))\n",
    "pos_tfidf_vectorizer.get_feature_names()[:10]"
   ]
  },
  {
   "cell_type": "code",
   "execution_count": 70,
   "metadata": {},
   "outputs": [
    {
     "name": "stdout",
     "output_type": "stream",
     "text": [
      "Accuracy with Multinomial Naive Bayes: 0.683\n"
     ]
    },
    {
     "data": {
      "image/png": "[encoded data removed]",
      "text/plain": [
       "<Figure size 432x288 with 2 Axes>"
      ]
     },
     "metadata": {
      "needs_background": "light"
     },
     "output_type": "display_data"
    }
   ],
   "source": [
    "# naive bayes model for POS \n",
    "nb_classifier = MultinomialNB(alpha=0.1)\n",
    "nb_classifier.fit(pos_tfidf_train, y_train)\n",
    "pred = nb_classifier.predict(pos_tfidf_test)\n",
    "\n",
    "#accuracy\n",
    "score = metrics.accuracy_score(y_test, pred)\n",
    "print(\"Accuracy with Multinomial Naive Bayes: %0.3f\" % score)\n",
    "\n",
    "# confusion matrix\n",
    "cm = metrics.confusion_matrix(y_test, pred, labels=['FAKE', 'REAL'])\n",
    "plot_confusion_matrix(cm, classes=['FAKE', 'REAL'])"
   ]
  },
  {
   "cell_type": "code",
   "execution_count": 71,
   "metadata": {},
   "outputs": [
    {
     "name": "stderr",
     "output_type": "stream",
     "text": [
      "/opt/anaconda3/lib/python3.7/site-packages/sklearn/ensemble/forest.py:245: FutureWarning: The default value of n_estimators will change from 10 in version 0.20 to 100 in 0.22.\n",
      "  \"10 in version 0.20 to 100 in 0.22.\", FutureWarning)\n",
      "[Parallel(n_jobs=1)]: Using backend SequentialBackend with 1 concurrent workers.\n"
     ]
    },
    {
     "name": "stdout",
     "output_type": "stream",
     "text": [
      "Accuracy with RandomForestClassifier:   0.867\n"
     ]
    },
    {
     "name": "stderr",
     "output_type": "stream",
     "text": [
      "[Parallel(n_jobs=1)]: Done  10 out of  10 | elapsed:    2.3s finished\n",
      "[Parallel(n_jobs=1)]: Using backend SequentialBackend with 1 concurrent workers.\n",
      "[Parallel(n_jobs=1)]: Done  10 out of  10 | elapsed:    0.0s finished\n"
     ]
    },
    {
     "data": {
      "image/png": "[encoded data removed]",
      "text/plain": [
       "<Figure size 432x288 with 2 Axes>"
      ]
     },
     "metadata": {
      "needs_background": "light"
     },
     "output_type": "display_data"
    }
   ],
   "source": [
    "# random forest model for POS\n",
    "rf_classifier = RandomForestClassifier(verbose=True)\n",
    "rf_classifier.fit(pos_tfidf_train, y_train)\n",
    "pred = rf_classifier.predict(pos_tfidf_test)\n",
    "\n",
    "# accuracy\n",
    "score = metrics.accuracy_score(y_test, pred)\n",
    "print(\"Accuracy with RandomForestClassifier:   %0.3f\" % score)\n",
    "\n",
    "# confusion matrix\n",
    "cm = metrics.confusion_matrix(y_test, pred, labels=['FAKE', 'REAL'])\n",
    "plot_confusion_matrix(cm, classes=['FAKE', 'REAL'])"
   ]
  },
  {
   "cell_type": "code",
   "execution_count": 72,
   "metadata": {},
   "outputs": [
    {
     "name": "stdout",
     "output_type": "stream",
     "text": [
      "      Iter       Train Loss   Remaining Time \n",
      "         1           1.2907           43.12s\n",
      "         2           1.2215           41.87s\n",
      "         3           1.1632           41.02s\n",
      "         4           1.1136           40.62s\n",
      "         5           1.0716           40.45s\n",
      "         6           1.0350           39.99s\n",
      "         7           1.0036           39.67s\n",
      "         8           0.9752           39.12s\n",
      "         9           0.9498           38.61s\n",
      "        10           0.9281           38.16s\n",
      "        20           0.7783           33.69s\n",
      "        30           0.7064           29.38s\n",
      "        40           0.6553           25.13s\n",
      "        50           0.6134           20.91s\n",
      "        60           0.5820           16.72s\n",
      "        70           0.5535           12.53s\n",
      "        80           0.5307            8.37s\n",
      "        90           0.5115            4.19s\n",
      "       100           0.4951            0.00s\n",
      "Accuracy with Gradient Boosting:   0.896\n"
     ]
    },
    {
     "data": {
      "image/png": "[encoded data removed]",
      "text/plain": [
       "<Figure size 432x288 with 2 Axes>"
      ]
     },
     "metadata": {
      "needs_background": "light"
     },
     "output_type": "display_data"
    }
   ],
   "source": [
    "# gradient boost for POS\n",
    "gb_classifier = GradientBoostingClassifier(verbose=True)\n",
    "gb_classifier.fit(pos_tfidf_train, y_train)\n",
    "pred = gb_classifier.predict(pos_tfidf_test)\n",
    "\n",
    "# accuracy\n",
    "score = metrics.accuracy_score(y_test, pred)\n",
    "print(\"Accuracy with Gradient Boosting:   %0.3f\" % score)\n",
    "\n",
    "# confusion matrix\n",
    "cm = metrics.confusion_matrix(y_test, pred, labels=['FAKE', 'REAL'])\n",
    "plot_confusion_matrix(cm, classes=['FAKE', 'REAL'])"
   ]
  },
  {
   "cell_type": "markdown",
   "metadata": {},
   "source": [
    "<h2>Semantic Analysis</h2>"
   ]
  },
  {
   "cell_type": "code",
   "execution_count": 73,
   "metadata": {},
   "outputs": [
    {
     "name": "stdout",
     "output_type": "stream",
     "text": [
      "0    [2.0, 6.0, 1.0, 2.0, 2.0, 2.0, 0.0, 0.0, 2.0, ...\n",
      "1    [1.0, 3.0, 0.0, 0.0, 2.0, 0.0, 0.0, 0.0, 1.0, ...\n",
      "2    [1.0, 9.0, 1.0, 2.0, 5.0, 3.0, 0.0, 2.0, 0.0, ...\n",
      "3    [0.0, 0.0, 0.0, 0.0, 0.0, 0.0, 0.0, 0.0, 0.0, ...\n",
      "4    [0.0, 0.0, 0.0, 0.0, 0.0, 0.0, 0.0, 0.0, 1.0, ...\n",
      "Name: Semantic, dtype: object\n"
     ]
    }
   ],
   "source": [
    "# Getting semantic categories scores\n",
    "lexicon = Empath()\n",
    "semantic = []\n",
    "count = 0\n",
    "\n",
    "for article in df['Text']:\n",
    "    d = lexicon.analyze(article, normalize=False)\n",
    "    x = []\n",
    "    for key, value in d.items():\n",
    "        x.append(value)\n",
    "    x = np.asarray(x)\n",
    "    semantic.append(x)\n",
    "df['Semantic'] = semantic\n",
    "print(df['Semantic'].head())"
   ]
  },
  {
   "cell_type": "code",
   "execution_count": 74,
   "metadata": {},
   "outputs": [
    {
     "data": {
      "text/plain": [
       "['help',\n",
       " 'office',\n",
       " 'dance',\n",
       " 'money',\n",
       " 'wedding',\n",
       " 'domestic_work',\n",
       " 'sleep',\n",
       " 'medical_emergency',\n",
       " 'cold',\n",
       " 'hate',\n",
       " 'cheerfulness',\n",
       " 'aggression',\n",
       " 'occupation',\n",
       " 'envy',\n",
       " 'anticipation',\n",
       " 'family',\n",
       " 'vacation',\n",
       " 'crime',\n",
       " 'attractive',\n",
       " 'masculine',\n",
       " 'prison',\n",
       " 'health',\n",
       " 'pride',\n",
       " 'dispute',\n",
       " 'nervousness',\n",
       " 'government',\n",
       " 'weakness',\n",
       " 'horror',\n",
       " 'swearing_terms',\n",
       " 'leisure',\n",
       " 'suffering',\n",
       " 'royalty',\n",
       " 'wealthy',\n",
       " 'tourism',\n",
       " 'furniture',\n",
       " 'school',\n",
       " 'magic',\n",
       " 'beach',\n",
       " 'journalism',\n",
       " 'morning',\n",
       " 'banking',\n",
       " 'social_media',\n",
       " 'exercise',\n",
       " 'night',\n",
       " 'kill',\n",
       " 'blue_collar_job',\n",
       " 'art',\n",
       " 'ridicule',\n",
       " 'play',\n",
       " 'computer',\n",
       " 'college',\n",
       " 'optimism',\n",
       " 'stealing',\n",
       " 'real_estate',\n",
       " 'home',\n",
       " 'divine',\n",
       " 'sexual',\n",
       " 'fear',\n",
       " 'irritability',\n",
       " 'superhero',\n",
       " 'business',\n",
       " 'driving',\n",
       " 'pet',\n",
       " 'childish',\n",
       " 'cooking',\n",
       " 'exasperation',\n",
       " 'religion',\n",
       " 'hipster',\n",
       " 'internet',\n",
       " 'surprise',\n",
       " 'reading',\n",
       " 'worship',\n",
       " 'leader',\n",
       " 'independence',\n",
       " 'movement',\n",
       " 'body',\n",
       " 'noise',\n",
       " 'eating',\n",
       " 'medieval',\n",
       " 'zest',\n",
       " 'confusion',\n",
       " 'water',\n",
       " 'sports',\n",
       " 'death',\n",
       " 'healing',\n",
       " 'legend',\n",
       " 'heroic',\n",
       " 'celebration',\n",
       " 'restaurant',\n",
       " 'violence',\n",
       " 'programming',\n",
       " 'dominant_heirarchical',\n",
       " 'military',\n",
       " 'neglect',\n",
       " 'swimming',\n",
       " 'exotic',\n",
       " 'love',\n",
       " 'hiking',\n",
       " 'communication',\n",
       " 'hearing',\n",
       " 'order',\n",
       " 'sympathy',\n",
       " 'hygiene',\n",
       " 'weather',\n",
       " 'anonymity',\n",
       " 'trust',\n",
       " 'ancient',\n",
       " 'deception',\n",
       " 'fabric',\n",
       " 'air_travel',\n",
       " 'fight',\n",
       " 'dominant_personality',\n",
       " 'music',\n",
       " 'vehicle',\n",
       " 'politeness',\n",
       " 'toy',\n",
       " 'farming',\n",
       " 'meeting',\n",
       " 'war',\n",
       " 'speaking',\n",
       " 'listen',\n",
       " 'urban',\n",
       " 'shopping',\n",
       " 'disgust',\n",
       " 'fire',\n",
       " 'tool',\n",
       " 'phone',\n",
       " 'gain',\n",
       " 'sound',\n",
       " 'injury',\n",
       " 'sailing',\n",
       " 'rage',\n",
       " 'science',\n",
       " 'work',\n",
       " 'appearance',\n",
       " 'valuable',\n",
       " 'warmth',\n",
       " 'youth',\n",
       " 'sadness',\n",
       " 'fun',\n",
       " 'emotional',\n",
       " 'joy',\n",
       " 'affection',\n",
       " 'traveling',\n",
       " 'fashion',\n",
       " 'ugliness',\n",
       " 'lust',\n",
       " 'shame',\n",
       " 'torment',\n",
       " 'economics',\n",
       " 'anger',\n",
       " 'politics',\n",
       " 'ship',\n",
       " 'clothing',\n",
       " 'car',\n",
       " 'strength',\n",
       " 'technology',\n",
       " 'breaking',\n",
       " 'shape_and_size',\n",
       " 'power',\n",
       " 'white_collar_job',\n",
       " 'animal',\n",
       " 'party',\n",
       " 'terrorism',\n",
       " 'smell',\n",
       " 'disappointment',\n",
       " 'poor',\n",
       " 'plant',\n",
       " 'pain',\n",
       " 'beauty',\n",
       " 'timidity',\n",
       " 'philosophy',\n",
       " 'negotiate',\n",
       " 'negative_emotion',\n",
       " 'cleaning',\n",
       " 'messaging',\n",
       " 'competing',\n",
       " 'law',\n",
       " 'friends',\n",
       " 'payment',\n",
       " 'achievement',\n",
       " 'alcohol',\n",
       " 'liquid',\n",
       " 'feminine',\n",
       " 'weapon',\n",
       " 'children',\n",
       " 'monster',\n",
       " 'ocean',\n",
       " 'giving',\n",
       " 'contentment',\n",
       " 'writing',\n",
       " 'rural',\n",
       " 'positive_emotion',\n",
       " 'musical']"
      ]
     },
     "execution_count": 74,
     "metadata": {},
     "output_type": "execute_result"
    }
   ],
   "source": [
    "# all categories\n",
    "categories = []\n",
    "a = lexicon.analyze(\"\")\n",
    "for key, value in a.items():\n",
    "    categories.append(key)\n",
    "categories"
   ]
  },
  {
   "cell_type": "code",
   "execution_count": 75,
   "metadata": {},
   "outputs": [
    {
     "name": "stdout",
     "output_type": "stream",
     "text": [
      "0    help help office office office office office o...\n",
      "1    help office office office wedding wedding cold...\n",
      "2    help office office office office office office...\n",
      "3    banking play business business sports sports h...\n",
      "4    cold occupation school art weather music music...\n",
      "Name: Semantics, dtype: object\n"
     ]
    }
   ],
   "source": [
    "# Generating semantic classes from semantic score frequency\n",
    "sem = []\n",
    "for i in range(df.shape[0]):\n",
    "    a = []\n",
    "    for j in range(len(semantic[0])):\n",
    "        for k in range(int(semantic[i][j])):\n",
    "            a.append(categories[j])\n",
    "    b = \" \".join(a)\n",
    "    sem.append(b)\n",
    "df['Semantics'] = sem\n",
    "\n",
    "print(df['Semantics'].head())\n"
   ]
  },
  {
   "cell_type": "code",
   "execution_count": 76,
   "metadata": {},
   "outputs": [
    {
     "name": "stdout",
     "output_type": "stream",
     "text": [
      "27534    help help help help help help help help help h...\n",
      "12973    help money money sleep medical_emergency aggre...\n",
      "5240     help help office money wedding wedding domesti...\n",
      "17740                                                     \n",
      "1035     medical_emergency medical_emergency medical_em...\n",
      "Name: Semantics, dtype: object\n",
      "27534    FAKE\n",
      "12973    FAKE\n",
      "5240     FAKE\n",
      "17740    FAKE\n",
      "1035     REAL\n",
      "Name: Label, dtype: object\n"
     ]
    }
   ],
   "source": [
    "# splitting in training and testing sets for Semantic analysis\n",
    "y = df['Label'].astype('str')\n",
    "X_train, X_test, y_train, y_test = train_test_split(df['Semantics'], y, test_size = 0.33, random_state = 53)\n",
    "print(X_train.head())\n",
    "print(y_train.head())"
   ]
  },
  {
   "cell_type": "code",
   "execution_count": 77,
   "metadata": {},
   "outputs": [],
   "source": [
    "# Generating TFIDF vectors of the semantic unigrams\n",
    "sem_tfidf_vectorizer = TfidfVectorizer(stop_words='english', ngram_range=(1,1))\n",
    "sem_tfidf_train = sem_tfidf_vectorizer.fit_transform(X_train.astype('str'))\n",
    "sem_tfidf_test = sem_tfidf_vectorizer.transform(X_test.astype('str'))\n"
   ]
  },
  {
   "cell_type": "code",
   "execution_count": 78,
   "metadata": {},
   "outputs": [
    {
     "name": "stdout",
     "output_type": "stream",
     "text": [
      "Accuracy with Multinomial Naive Bayes:   0.641\n"
     ]
    },
    {
     "data": {
      "image/png": "[encoded data removed]",
      "text/plain": [
       "<Figure size 432x288 with 2 Axes>"
      ]
     },
     "metadata": {
      "needs_background": "light"
     },
     "output_type": "display_data"
    }
   ],
   "source": [
    "# naive bayes model for semantic analsysis\n",
    "nb_classifier = MultinomialNB(alpha=0.1)\n",
    "nb_classifier.fit(sem_tfidf_train, y_train)\n",
    "pred = nb_classifier.predict(sem_tfidf_test)\n",
    "\n",
    "# accuracy\n",
    "score = metrics.accuracy_score(y_test, pred)\n",
    "print(\"Accuracy with Multinomial Naive Bayes:   %0.3f\" % score)\n",
    "\n",
    "# confusion matrix\n",
    "cm = metrics.confusion_matrix(y_test, pred, labels=['FAKE', 'REAL'])\n",
    "plot_confusion_matrix(cm, classes=['FAKE', 'REAL'])"
   ]
  },
  {
   "cell_type": "code",
   "execution_count": 79,
   "metadata": {},
   "outputs": [
    {
     "name": "stderr",
     "output_type": "stream",
     "text": [
      "/opt/anaconda3/lib/python3.7/site-packages/sklearn/ensemble/forest.py:245: FutureWarning: The default value of n_estimators will change from 10 in version 0.20 to 100 in 0.22.\n",
      "  \"10 in version 0.20 to 100 in 0.22.\", FutureWarning)\n",
      "[Parallel(n_jobs=1)]: Using backend SequentialBackend with 1 concurrent workers.\n"
     ]
    },
    {
     "name": "stdout",
     "output_type": "stream",
     "text": [
      "Accuracy with RandomForestClassifier:   0.704\n"
     ]
    },
    {
     "name": "stderr",
     "output_type": "stream",
     "text": [
      "[Parallel(n_jobs=1)]: Done  10 out of  10 | elapsed:    3.3s finished\n",
      "[Parallel(n_jobs=1)]: Using backend SequentialBackend with 1 concurrent workers.\n",
      "[Parallel(n_jobs=1)]: Done  10 out of  10 | elapsed:    0.0s finished\n"
     ]
    },
    {
     "data": {
      "image/png": "[encoded data removed]",
      "text/plain": [
       "<Figure size 432x288 with 2 Axes>"
      ]
     },
     "metadata": {
      "needs_background": "light"
     },
     "output_type": "display_data"
    }
   ],
   "source": [
    "# random forest model for semantic analysis\n",
    "rf_classifier = RandomForestClassifier(verbose=True)\n",
    "rf_classifier.fit(sem_tfidf_train, y_train)\n",
    "pred = rf_classifier.predict(sem_tfidf_test)\n",
    "\n",
    "# accuracy\n",
    "score = metrics.accuracy_score(y_test, pred)\n",
    "print(\"Accuracy with RandomForestClassifier:   %0.3f\" % score)\n",
    "\n",
    "# confusion matrix \n",
    "cm = metrics.confusion_matrix(y_test, pred, labels=['FAKE', 'REAL'])\n",
    "plot_confusion_matrix(cm, classes=['FAKE', 'REAL'])"
   ]
  },
  {
   "cell_type": "code",
   "execution_count": 80,
   "metadata": {},
   "outputs": [
    {
     "name": "stdout",
     "output_type": "stream",
     "text": [
      "      Iter       Train Loss   Remaining Time \n",
      "         1           1.3453           34.64s\n",
      "         2           1.3218           33.52s\n",
      "         3           1.3018           33.04s\n",
      "         4           1.2849           32.57s\n",
      "         5           1.2700           32.15s\n",
      "         6           1.2558           31.76s\n",
      "         7           1.2443           31.39s\n",
      "         8           1.2332           31.14s\n",
      "         9           1.2236           30.78s\n",
      "        10           1.2144           30.42s\n",
      "        20           1.1526           26.96s\n",
      "        30           1.1142           23.76s\n",
      "        40           1.0868           20.40s\n",
      "        50           1.0653           17.03s\n",
      "        60           1.0466           13.63s\n",
      "        70           1.0301           10.24s\n",
      "        80           1.0156            6.84s\n",
      "        90           1.0031            3.43s\n",
      "       100           0.9905            0.00s\n",
      "Accuracy with Gradient Boosting:   0.733\n"
     ]
    },
    {
     "data": {
      "image/png": "[encoded data removed]",
      "text/plain": [
       "<Figure size 432x288 with 2 Axes>"
      ]
     },
     "metadata": {
      "needs_background": "light"
     },
     "output_type": "display_data"
    }
   ],
   "source": [
    "# gradient boosting model for semantic analysis\n",
    "gb_classifier = GradientBoostingClassifier(verbose=True)\n",
    "gb_classifier.fit(sem_tfidf_train, y_train)\n",
    "pred = gb_classifier.predict(sem_tfidf_test)\n",
    "\n",
    "# accuracy\n",
    "score = metrics.accuracy_score(y_test, pred)\n",
    "print(\"Accuracy with Gradient Boosting:   %0.3f\" % score)\n",
    "\n",
    "# confusion matrix \n",
    "cm = metrics.confusion_matrix(y_test, pred, labels=['FAKE', 'REAL'])\n",
    "plot_confusion_matrix(cm, classes=['FAKE', 'REAL'])"
   ]
  },
  {
   "cell_type": "markdown",
   "metadata": {},
   "source": [
    "<h2>Combining the 3 features - TFIDF, POS and Semantic </h2>"
   ]
  },
  {
   "cell_type": "code",
   "execution_count": 81,
   "metadata": {},
   "outputs": [
    {
     "name": "stdout",
     "output_type": "stream",
     "text": [
      "Index(['Headline', 'Body', 'Label', 'Text', 'Clean_Text', 'Text_POS',\n",
      "       'Semantic', 'Semantics'],\n",
      "      dtype='object')\n",
      "(27356, 8)\n",
      "Index(['Headline', 'Body', 'Text', 'Clean_Text', 'Text_POS', 'Semantic',\n",
      "       'Semantics'],\n",
      "      dtype='object')\n"
     ]
    }
   ],
   "source": [
    "print(df.columns)\n",
    "print(df.shape)\n",
    "\n",
    "# drop label from df to create X\n",
    "X = df.drop('Label', axis = 1)\n",
    "\n",
    "print(X.columns)"
   ]
  },
  {
   "cell_type": "code",
   "execution_count": 82,
   "metadata": {},
   "outputs": [],
   "source": [
    "# take Label as y\n",
    "y = df.Label\n",
    "\n",
    "# split into training and testing sets using X and y\n",
    "X_train, X_test, y_train, y_test = train_test_split(X, y, test_size = 0.33, random_state = 53)\n"
   ]
  },
  {
   "cell_type": "code",
   "execution_count": 83,
   "metadata": {},
   "outputs": [],
   "source": [
    "X_train_text = X_train['Clean_Text']\n",
    "X_test_text = X_test['Clean_Text']\n",
    "\n",
    "X_train_POS = X_train['Text_POS']\n",
    "X_test_POS = X_test['Text_POS']\n",
    "\n",
    "X_train_sem = X_train['Semantics']\n",
    "X_test_sem = X_test['Semantics']"
   ]
  },
  {
   "cell_type": "code",
   "execution_count": 84,
   "metadata": {},
   "outputs": [],
   "source": [
    "# TFIDF Vectorizer\n",
    "tfidf_vectorizer = TfidfVectorizer(stop_words='english', ngram_range = (1,3), max_features=20000)\n",
    "tfidf_train = tfidf_vectorizer.fit_transform(X_train_text.astype('str'))\n",
    "tfidf_test = tfidf_vectorizer.transform(X_test_text.astype('str'))\n"
   ]
  },
  {
   "cell_type": "code",
   "execution_count": 85,
   "metadata": {},
   "outputs": [],
   "source": [
    "# POS TFIDF Vectorizer\n",
    "pos_tfidf_vectorizer = TfidfVectorizer(stop_words='english', ngram_range = (1,3), max_features=20000)\n",
    "pos_tfidf_train = pos_tfidf_vectorizer.fit_transform(X_train_POS.astype('str'))\n",
    "pos_tfidf_test = pos_tfidf_vectorizer.transform(X_test_POS.astype('str'))"
   ]
  },
  {
   "cell_type": "code",
   "execution_count": 86,
   "metadata": {},
   "outputs": [],
   "source": [
    "# Semantic TFIDF Vectorizer\n",
    "sem_tfidf_vectorizer = TfidfVectorizer(stop_words='english', ngram_range = (1,1), max_features=20000)\n",
    "sem_tfidf_train = sem_tfidf_vectorizer.fit_transform(X_train_sem.astype('str'))\n",
    "sem_tfidf_test = sem_tfidf_vectorizer.transform(X_test_sem.astype('str'))"
   ]
  },
  {
   "cell_type": "code",
   "execution_count": 87,
   "metadata": {},
   "outputs": [],
   "source": [
    "# setting weights for each feature vector\n",
    "text_w = 0.35 * 3\n",
    "pos_w = 0.5 * 3\n",
    "sem_w = 0.15 * 3\n",
    "\n",
    "tfidf_train *= text_w\n",
    "tfidf_test *= text_w\n",
    "pos_tfidf_train *= pos_w\n",
    "pos_tfidf_test *= pos_w\n",
    "sem_tfidf_train *= sem_w\n",
    "sem_tfidf_train *= sem_w"
   ]
  },
  {
   "cell_type": "code",
   "execution_count": null,
   "metadata": {},
   "outputs": [],
   "source": []
  },
  {
   "cell_type": "code",
   "execution_count": 88,
   "metadata": {},
   "outputs": [],
   "source": [
    "# Combining the 3 sparse matrices to form X_train and X_test\n",
    "# vstack - vertical \n",
    "# hstack - horizontal\n",
    "# they are used to combine arrays and make them into one array\n",
    "diff_n_rows = pos_tfidf_train.shape[0] - tfidf_train.shape[0]\n",
    "b = sp.vstack((tfidf_train, sp.csr_matrix((diff_n_rows, tfidf_train.shape[1]))))\n",
    "c = sp.hstack((pos_tfidf_train, b))\n",
    "\n",
    "diff_n_rows = c.shape[0] - sem_tfidf_train.shape[0]\n",
    "b = sp.vstack((sem_tfidf_train, sp.csr_matrix((diff_n_rows, sem_tfidf_train.shape[1]))))\n",
    "\n",
    "# X - train\n",
    "X_train = sp.hstack((c, b))\n",
    "\n",
    "diff_n_rows = pos_tfidf_test.shape[0] - tfidf_test.shape[0]\n",
    "d = sp.vstack((tfidf_test, sp.csr_matrix((diff_n_rows, tfidf_test.shape[1]))))\n",
    "e = sp.hstack((pos_tfidf_test, d))\n",
    "\n",
    "diff_n_rows = e.shape[0] - sem_tfidf_test.shape[0]\n",
    "d = sp.vstack((sem_tfidf_test, sp.csr_matrix((diff_n_rows, sem_tfidf_test.shape[1]))))\n",
    "\n",
    "# Y - test\n",
    "X_test = sp.hstack((e, d))\n"
   ]
  },
  {
   "cell_type": "code",
   "execution_count": 89,
   "metadata": {},
   "outputs": [
    {
     "name": "stdout",
     "output_type": "stream",
     "text": [
      "Accuracy with Multinomial Naive Bayes:   0.917\n"
     ]
    },
    {
     "data": {
      "image/png": "[encoded data removed]",
      "text/plain": [
       "<Figure size 432x288 with 2 Axes>"
      ]
     },
     "metadata": {
      "needs_background": "light"
     },
     "output_type": "display_data"
    }
   ],
   "source": [
    "# naive bayes model\n",
    "nb_classifier = MultinomialNB(alpha=0.1)\n",
    "nb_classifier.fit(X_train, y_train)\n",
    "pred = nb_classifier.predict(X_test)\n",
    "\n",
    "# accuracy\n",
    "score = metrics.accuracy_score(y_test, pred)\n",
    "print(\"Accuracy with Multinomial Naive Bayes:   %0.3f\" % score)\n",
    "\n",
    "# confusion matrix\n",
    "cm = metrics.confusion_matrix(y_test, pred, labels=['FAKE', 'REAL'])\n",
    "plot_confusion_matrix(cm, classes=['FAKE', 'REAL'])"
   ]
  },
  {
   "cell_type": "code",
   "execution_count": 90,
   "metadata": {},
   "outputs": [
    {
     "name": "stderr",
     "output_type": "stream",
     "text": [
      "/opt/anaconda3/lib/python3.7/site-packages/sklearn/ensemble/forest.py:245: FutureWarning: The default value of n_estimators will change from 10 in version 0.20 to 100 in 0.22.\n",
      "  \"10 in version 0.20 to 100 in 0.22.\", FutureWarning)\n"
     ]
    },
    {
     "name": "stdout",
     "output_type": "stream",
     "text": [
      "Accuracy:  0.876\n"
     ]
    },
    {
     "data": {
      "image/png": "[encoded data removed]",
      "text/plain": [
       "<Figure size 432x288 with 2 Axes>"
      ]
     },
     "metadata": {
      "needs_background": "light"
     },
     "output_type": "display_data"
    }
   ],
   "source": [
    "# random forest model\n",
    "rf_classifier = RandomForestClassifier()\n",
    "rf_classifier.fit(X_train, y_train)\n",
    "pred = rf_classifier.predict(X_test)\n",
    "\n",
    "# accuracy\n",
    "score = metrics.accuracy_score(y_test, pred)\n",
    "print(\"Accuracy:  %0.3f\" % score)\n",
    "\n",
    "# confusion matrix\n",
    "cm = metrics.confusion_matrix(y_test, pred, labels=['FAKE', 'REAL'])\n",
    "plot_confusion_matrix(cm, classes=['FAKE', 'REAL'])"
   ]
  },
  {
   "cell_type": "code",
   "execution_count": 91,
   "metadata": {},
   "outputs": [
    {
     "name": "stdout",
     "output_type": "stream",
     "text": [
      "      Iter       Train Loss   Remaining Time \n",
      "         1           1.2703            5.58m\n",
      "         2           1.1854            5.31m\n",
      "         3           1.1151            5.19m\n",
      "         4           1.0557            5.09m\n",
      "         5           1.0043            5.03m\n",
      "         6           0.9600            4.97m\n",
      "         7           0.9213            4.91m\n",
      "         8           0.8872            4.86m\n",
      "         9           0.8574            4.80m\n",
      "        10           0.8309            4.74m\n",
      "        20           0.6558            4.20m\n",
      "        30           0.5606            3.65m\n",
      "        40           0.4981            3.14m\n",
      "        50           0.4552            2.60m\n",
      "        60           0.4176            2.07m\n",
      "        70           0.3894            1.55m\n",
      "        80           0.3663            1.03m\n",
      "        90           0.3456           31.07s\n",
      "       100           0.3284            0.00s\n",
      "Accuracy:   0.941\n"
     ]
    },
    {
     "data": {
      "image/png": "[encoded data removed]",
      "text/plain": [
       "<Figure size 432x288 with 2 Axes>"
      ]
     },
     "metadata": {
      "needs_background": "light"
     },
     "output_type": "display_data"
    }
   ],
   "source": [
    "# gradient boost model\n",
    "gb_classifier = GradientBoostingClassifier(verbose=True)\n",
    "gb_classifier.fit(X_train, y_train)\n",
    "pred = gb_classifier.predict(X_test)\n",
    "\n",
    "# accuracy\n",
    "score = metrics.accuracy_score(y_test, pred)\n",
    "print(\"Accuracy:   %0.3f\" % score)\n",
    "\n",
    "# confusion matrix\n",
    "cm = metrics.confusion_matrix(y_test, pred, labels=['FAKE', 'REAL'])\n",
    "plot_confusion_matrix(cm, classes=['FAKE', 'REAL'])"
   ]
  },
  {
   "cell_type": "markdown",
   "metadata": {},
   "source": [
    "<h2>Predicting for new data...</h2>"
   ]
  },
  {
   "cell_type": "code",
   "execution_count": 114,
   "metadata": {},
   "outputs": [
    {
     "name": "stdin",
     "output_type": "stream",
     "text": [
      "Enter the headline of article: \n",
      " Brexit Encourages UK to Trade With Non-EU States, Including Russia\n",
      "Enter the body of article: \n",
      " Britain and EU After Brexit ( 31 ) 0 13 0 0 Brexit prompts the Unietd Kingdom to facilitate trade relations with non-EU states including Russia, the Russo-British Chamber of Commerce (RBCC) chairman told Sputnik.  MOSCOW (Sputnik) — Leaving the European Union and losing access to the single market encourages Britain to develop trade with Russia and other non-EU states, Roger Munnings, the Russo-British Chamber of Commerce (RBCC) chairman, told Sputnik on Wednesday. \"There are at least two years to go before we leave the European Union, but I think the way Britain is looking at it is that it gives us a chance to be completely open to all countries in the world, including Russia. We’ll need to look for other trading partners rather than being confined to the European Union by virtue of the free trade arrangement, so we will be very keen to do trade with Russia,\" Munnings said on the sidelines of the RBCC RussiaTALK Investment Forum in Moscow.  He added that although there was sanctions regime in place against Moscow, at the same time the British government encourages trade with Russia. © Photo: PIxabay UK FinMin Upholds Economic Stimuli to Quell Concerns Over ‘Hard Brexit’ On June 23, the United Kingdom voted on referendum to leave the European Union . On October 2, UK Prime Minister Theresa May said that the country would trigger Article 50 of the EU Lisbon Treaty by the end of March 2017 to start the official procedures to cease its EU membership. A number of EU leaders have already stated that the United Kingdom will lose its access to the single market unless it keeps freedom of movement rules. May, meanwhile, suggested at the Conservative party conference in early October that the country’s exit from the European Union would be a \"hard\" rather than \"soft\" Brexit, meaning that control over immigration would be prioritized over the access to the European single market. ...\n"
     ]
    },
    {
     "data": {
      "text/html": [
       "<div>\n",
       "<style scoped>\n",
       "    .dataframe tbody tr th:only-of-type {\n",
       "        vertical-align: middle;\n",
       "    }\n",
       "\n",
       "    .dataframe tbody tr th {\n",
       "        vertical-align: top;\n",
       "    }\n",
       "\n",
       "    .dataframe thead th {\n",
       "        text-align: right;\n",
       "    }\n",
       "</style>\n",
       "<table border=\"1\" class=\"dataframe\">\n",
       "  <thead>\n",
       "    <tr style=\"text-align: right;\">\n",
       "      <th></th>\n",
       "      <th>Headline</th>\n",
       "      <th>Body</th>\n",
       "      <th>Text</th>\n",
       "      <th>Clean_Text</th>\n",
       "    </tr>\n",
       "  </thead>\n",
       "  <tbody>\n",
       "    <tr>\n",
       "      <td>0</td>\n",
       "      <td>Brexit Encourages UK to Trade With Non-EU Stat...</td>\n",
       "      <td>Britain and EU After Brexit ( 31 ) 0 13 0 0 Br...</td>\n",
       "      <td>Brexit Encourages UK to Trade With Non-EU Stat...</td>\n",
       "      <td>brexit encourages uk trade noneu state includi...</td>\n",
       "    </tr>\n",
       "  </tbody>\n",
       "</table>\n",
       "</div>"
      ],
      "text/plain": [
       "                                            Headline  \\\n",
       "0  Brexit Encourages UK to Trade With Non-EU Stat...   \n",
       "\n",
       "                                                Body  \\\n",
       "0  Britain and EU After Brexit ( 31 ) 0 13 0 0 Br...   \n",
       "\n",
       "                                                Text  \\\n",
       "0  Brexit Encourages UK to Trade With Non-EU Stat...   \n",
       "\n",
       "                                          Clean_Text  \n",
       "0  brexit encourages uk trade noneu state includi...  "
      ]
     },
     "execution_count": 114,
     "metadata": {},
     "output_type": "execute_result"
    }
   ],
   "source": [
    "# Take input from user for new data point prediction\n",
    "new_data = pd.DataFrame()\n",
    "\n",
    "headline = input(\"Enter the headline of article: \\n\")\n",
    "body = input(\"Enter the body of article: \\n\")\n",
    "\n",
    "# headline = \"Obama Signs Executive Order Declaring Investigation Into Election Results; Revote Planned For Dec. 19th - ABC News\"\n",
    "# body = \"\"\"64 SHARE President Obama has signed an Executive Order declaring an investigation into the election results and plans for a revote on December 19th. (AP Photo / Dennis System) \n",
    "# WASHINGTON, D.C. (AP) — Following the results of Tuesday night’s election, President Obama has signed Executive Order 13805 , which orders a full recount of all votes cast in the election and calls for a special election to be held on December 19 th . Obama signed the order in response to the concerns of thousands of voters across the country who said that they were prevented from casting a ballot on election day , too many absentee ballots have not been found or counted , equipment failures, as well as concerns that some members of the electoral college may have acted unethically. \n",
    "# “People all over the country have been flooding my office with calls, telling my staff of horror stories about being harassed and intimidated by poll workers,” Obama told reporters. “Many have even said that they were flat out denied entry into the voting booths to cast their ballots if they were wearing a Hillary Clinton shirt or other signs showing support for her as President. This was especially bad in areas of Florida and North Carolina where there are high numbers of Latino and African American voters. We must investigate these claims. The margin of victory is too close to call, and the outcome of this election is too important. There is just too many legal challenges in too many states to just call this a victory for Trump.” \n",
    "# Under the President’s order, the votes cast in all precincts nationwide will be recounted, and all poll workers who took part in Tuesday’s election will be subjected to strict background checks. This process is expected to take 30 days. In precincts where the Department of Justice has cause to believe that voter suppression has occurred, new elections will be held on Dec. 19 th, with those results being used to help determine who will represent the individual states in the electoral college. \n",
    "# Not surprisingly, Donald Trump is not happy with the president’s decision. \n",
    "# “Crooked Hillary lost this election fair and square. They tried to rig this election against me, but the American people didn’t allow that to happen. President Obama doesn’t care about what the American people want. I said the system was rigged all along, and this proves I was right.” \n",
    "# The president also said that the DOJ will be taking a close look at the members of the electoral college. \n",
    "# “We have received information from a very reliable source that suggests there may have been some collusion between the members of the electoral college and poll workers in certain swing states. We still need to investigate these claims, but if they are true, we will take all the appropriate actions necessary.” \n",
    "# Paul Horner, a professor of political science at UCLA, believes that the issues with the electoral college run much deeper that this election. \n",
    "# “Most people feel that it is their right as citizens to pick the president of the United States, but there is nothing in the constitution that says that. Hillary Clinton won the popular vote by more than 200,000 votes , but because of the electoral college, she still lost. That decision is reserved solely for the 538 electors who meet in their respective states on December 19 th . What the people are actually voting for are their states’ electors, not for the President. Though the system is odd and unfair, it has persisted because many insist that it works just fine as it is, with the winner of the popular and electoral vote usually matching. That does not mean, however, that it will continue to work just fine in the future. The way the system is set up could cause it to malfunction in some potentially terrifying ways, this recent election being one of them.” \n",
    "# Political Analyst Matt Daemon told ABC News that he agrees with the President’s Executive Order and said that he would like to see the electoral college done away with altogether. \n",
    "# “[The electoral college] is a f—king joke; we should be using the popular vote instead. It may have made sense in 1788, but so did the three fifths compromise . Everyone should have an equal vote, and that’s just not the case with the electoral college. You know what the electoral college gave us? It gave us George W. Bush. It gave us a war in Iraq, and the worst recession since the great depression. It’s time to bring our system into the 21 st century. I hope Obama fixes this, because president Trump is going to be a nightmare.” \n",
    "# Obama finished up the press conference explaining his plans for moving forward. \n",
    "# “We’re going to investigate the FBI into their role in all of this,” Obama said. “Why did FBI director James Comey on Sunday say that the agency is not recommending charges against Clinton after reviewing all of her emails; declaring Hillary Clinton a free women conveniently just one day before the election? Why wasn’t this news released earlier? How many votes were lost because of this?” Obama said. “If all of these questions cannot be answered by our deadline set in December, a recount will be ordered.” \n",
    "# If you have any questions about the recount or the special December 19 th election , you can call the Obama administration’s special election hotline at (785) 273-0325. TAGS\"\"\"\n",
    "\n",
    "new_data['Headline'] = [headline]\n",
    "new_data['Body'] = [body]\n",
    "\n",
    "# combine headline and body into text\n",
    "new_data['Text'] = new_data['Headline'] + new_data['Body']\n",
    "\n",
    "# apply clean_text on new data point\n",
    "new_data['Clean_Text'] = new_data['Text'].apply(lambda x: clean_text(x))\n",
    "new_data.head()\n"
   ]
  },
  {
   "cell_type": "code",
   "execution_count": 115,
   "metadata": {},
   "outputs": [],
   "source": [
    "# transform using TFIDF vectorizier\n",
    "tfidf = tfidf_vectorizer.transform(new_data['Clean_Text'])"
   ]
  },
  {
   "cell_type": "code",
   "execution_count": 116,
   "metadata": {},
   "outputs": [
    {
     "data": {
      "text/html": [
       "<div>\n",
       "<style scoped>\n",
       "    .dataframe tbody tr th:only-of-type {\n",
       "        vertical-align: middle;\n",
       "    }\n",
       "\n",
       "    .dataframe tbody tr th {\n",
       "        vertical-align: top;\n",
       "    }\n",
       "\n",
       "    .dataframe thead th {\n",
       "        text-align: right;\n",
       "    }\n",
       "</style>\n",
       "<table border=\"1\" class=\"dataframe\">\n",
       "  <thead>\n",
       "    <tr style=\"text-align: right;\">\n",
       "      <th></th>\n",
       "      <th>Headline</th>\n",
       "      <th>Body</th>\n",
       "      <th>Text</th>\n",
       "      <th>Clean_Text</th>\n",
       "      <th>Text_POS</th>\n",
       "    </tr>\n",
       "  </thead>\n",
       "  <tbody>\n",
       "    <tr>\n",
       "      <td>0</td>\n",
       "      <td>Brexit Encourages UK to Trade With Non-EU Stat...</td>\n",
       "      <td>Britain and EU After Brexit ( 31 ) 0 13 0 0 Br...</td>\n",
       "      <td>Brexit Encourages UK to Trade With Non-EU Stat...</td>\n",
       "      <td>brexit encourages uk trade noneu state includi...</td>\n",
       "      <td>PROPN VERB PROPN ADP PROPN ADP PROPN PUNCT PRO...</td>\n",
       "    </tr>\n",
       "  </tbody>\n",
       "</table>\n",
       "</div>"
      ],
      "text/plain": [
       "                                            Headline  \\\n",
       "0  Brexit Encourages UK to Trade With Non-EU Stat...   \n",
       "\n",
       "                                                Body  \\\n",
       "0  Britain and EU After Brexit ( 31 ) 0 13 0 0 Br...   \n",
       "\n",
       "                                                Text  \\\n",
       "0  Brexit Encourages UK to Trade With Non-EU Stat...   \n",
       "\n",
       "                                          Clean_Text  \\\n",
       "0  brexit encourages uk trade noneu state includi...   \n",
       "\n",
       "                                            Text_POS  \n",
       "0  PROPN VERB PROPN ADP PROPN ADP PROPN PUNCT PRO...  "
      ]
     },
     "execution_count": 116,
     "metadata": {},
     "output_type": "execute_result"
    }
   ],
   "source": [
    "# generate POS tags for new data point\n",
    "pos_tags_column = []\n",
    "pos_tags = []\n",
    "doc = nlp(new_data['Text'][0])\n",
    "for token in doc:\n",
    "    pos_tags.append(token.pos_)\n",
    "all_pos_tags = ' '.join(pos_tags)\n",
    "pos_tags_column.append(all_pos_tags)\n",
    "\n",
    "new_data['Text_POS'] = pos_tags_column\n",
    "new_data.head()\n"
   ]
  },
  {
   "cell_type": "code",
   "execution_count": 117,
   "metadata": {},
   "outputs": [],
   "source": [
    "# transform using TFIDF POS vectorizer\n",
    "pos_tfidf = pos_tfidf_vectorizer.transform(new_data['Text_POS'])\n"
   ]
  },
  {
   "cell_type": "code",
   "execution_count": 118,
   "metadata": {},
   "outputs": [
    {
     "data": {
      "text/plain": [
       "0    [0.0, 1.0, 0.0, 5.0, 2.0, 0.0, 0.0, 0.0, 0.0, ...\n",
       "Name: Semantic, dtype: object"
      ]
     },
     "execution_count": 118,
     "metadata": {},
     "output_type": "execute_result"
    }
   ],
   "source": [
    "# generate semantic scores for new data point\n",
    "semantic = []\n",
    "\n",
    "\n",
    "d = lexicon.analyze(new_data['Text'][0], normalize=False)\n",
    "x = []\n",
    "for key, value in d.items():\n",
    "    x.append(value)\n",
    "    \n",
    "x = np.asarray(x)\n",
    "semantic.append(x)\n",
    "\n",
    "new_data['Semantic'] = semantic\n",
    "new_data['Semantic'].head()\n"
   ]
  },
  {
   "cell_type": "code",
   "execution_count": 119,
   "metadata": {},
   "outputs": [
    {
     "data": {
      "text/plain": [
       "['help',\n",
       " 'office',\n",
       " 'dance',\n",
       " 'money',\n",
       " 'wedding',\n",
       " 'domestic_work',\n",
       " 'sleep',\n",
       " 'medical_emergency',\n",
       " 'cold',\n",
       " 'hate',\n",
       " 'cheerfulness',\n",
       " 'aggression',\n",
       " 'occupation',\n",
       " 'envy',\n",
       " 'anticipation',\n",
       " 'family',\n",
       " 'vacation',\n",
       " 'crime',\n",
       " 'attractive',\n",
       " 'masculine',\n",
       " 'prison',\n",
       " 'health',\n",
       " 'pride',\n",
       " 'dispute',\n",
       " 'nervousness',\n",
       " 'government',\n",
       " 'weakness',\n",
       " 'horror',\n",
       " 'swearing_terms',\n",
       " 'leisure',\n",
       " 'suffering',\n",
       " 'royalty',\n",
       " 'wealthy',\n",
       " 'tourism',\n",
       " 'furniture',\n",
       " 'school',\n",
       " 'magic',\n",
       " 'beach',\n",
       " 'journalism',\n",
       " 'morning',\n",
       " 'banking',\n",
       " 'social_media',\n",
       " 'exercise',\n",
       " 'night',\n",
       " 'kill',\n",
       " 'blue_collar_job',\n",
       " 'art',\n",
       " 'ridicule',\n",
       " 'play',\n",
       " 'computer',\n",
       " 'college',\n",
       " 'optimism',\n",
       " 'stealing',\n",
       " 'real_estate',\n",
       " 'home',\n",
       " 'divine',\n",
       " 'sexual',\n",
       " 'fear',\n",
       " 'irritability',\n",
       " 'superhero',\n",
       " 'business',\n",
       " 'driving',\n",
       " 'pet',\n",
       " 'childish',\n",
       " 'cooking',\n",
       " 'exasperation',\n",
       " 'religion',\n",
       " 'hipster',\n",
       " 'internet',\n",
       " 'surprise',\n",
       " 'reading',\n",
       " 'worship',\n",
       " 'leader',\n",
       " 'independence',\n",
       " 'movement',\n",
       " 'body',\n",
       " 'noise',\n",
       " 'eating',\n",
       " 'medieval',\n",
       " 'zest',\n",
       " 'confusion',\n",
       " 'water',\n",
       " 'sports',\n",
       " 'death',\n",
       " 'healing',\n",
       " 'legend',\n",
       " 'heroic',\n",
       " 'celebration',\n",
       " 'restaurant',\n",
       " 'violence',\n",
       " 'programming',\n",
       " 'dominant_heirarchical',\n",
       " 'military',\n",
       " 'neglect',\n",
       " 'swimming',\n",
       " 'exotic',\n",
       " 'love',\n",
       " 'hiking',\n",
       " 'communication',\n",
       " 'hearing',\n",
       " 'order',\n",
       " 'sympathy',\n",
       " 'hygiene',\n",
       " 'weather',\n",
       " 'anonymity',\n",
       " 'trust',\n",
       " 'ancient',\n",
       " 'deception',\n",
       " 'fabric',\n",
       " 'air_travel',\n",
       " 'fight',\n",
       " 'dominant_personality',\n",
       " 'music',\n",
       " 'vehicle',\n",
       " 'politeness',\n",
       " 'toy',\n",
       " 'farming',\n",
       " 'meeting',\n",
       " 'war',\n",
       " 'speaking',\n",
       " 'listen',\n",
       " 'urban',\n",
       " 'shopping',\n",
       " 'disgust',\n",
       " 'fire',\n",
       " 'tool',\n",
       " 'phone',\n",
       " 'gain',\n",
       " 'sound',\n",
       " 'injury',\n",
       " 'sailing',\n",
       " 'rage',\n",
       " 'science',\n",
       " 'work',\n",
       " 'appearance',\n",
       " 'valuable',\n",
       " 'warmth',\n",
       " 'youth',\n",
       " 'sadness',\n",
       " 'fun',\n",
       " 'emotional',\n",
       " 'joy',\n",
       " 'affection',\n",
       " 'traveling',\n",
       " 'fashion',\n",
       " 'ugliness',\n",
       " 'lust',\n",
       " 'shame',\n",
       " 'torment',\n",
       " 'economics',\n",
       " 'anger',\n",
       " 'politics',\n",
       " 'ship',\n",
       " 'clothing',\n",
       " 'car',\n",
       " 'strength',\n",
       " 'technology',\n",
       " 'breaking',\n",
       " 'shape_and_size',\n",
       " 'power',\n",
       " 'white_collar_job',\n",
       " 'animal',\n",
       " 'party',\n",
       " 'terrorism',\n",
       " 'smell',\n",
       " 'disappointment',\n",
       " 'poor',\n",
       " 'plant',\n",
       " 'pain',\n",
       " 'beauty',\n",
       " 'timidity',\n",
       " 'philosophy',\n",
       " 'negotiate',\n",
       " 'negative_emotion',\n",
       " 'cleaning',\n",
       " 'messaging',\n",
       " 'competing',\n",
       " 'law',\n",
       " 'friends',\n",
       " 'payment',\n",
       " 'achievement',\n",
       " 'alcohol',\n",
       " 'liquid',\n",
       " 'feminine',\n",
       " 'weapon',\n",
       " 'children',\n",
       " 'monster',\n",
       " 'ocean',\n",
       " 'giving',\n",
       " 'contentment',\n",
       " 'writing',\n",
       " 'rural',\n",
       " 'positive_emotion',\n",
       " 'musical']"
      ]
     },
     "execution_count": 119,
     "metadata": {},
     "output_type": "execute_result"
    }
   ],
   "source": [
    "categories = []\n",
    "a = lexicon.analyze(\"\")\n",
    "for key, value in a.items():\n",
    "    categories.append(key)\n",
    "categories"
   ]
  },
  {
   "cell_type": "code",
   "execution_count": 120,
   "metadata": {},
   "outputs": [
    {
     "name": "stdout",
     "output_type": "stream",
     "text": [
      "0    office money money money money money wedding w...\n",
      "Name: Semantics, dtype: object\n"
     ]
    }
   ],
   "source": [
    "# generate semantic categories for new data point\n",
    "sem = []\n",
    "for i in range(new_data.shape[0]):\n",
    "    a = []\n",
    "    for j in range(len(semantic[0])):\n",
    "        for k in range(int(semantic[i][j])):\n",
    "            a.append(categories[j])\n",
    "    b = ' '.join(a)\n",
    "    sem.append(b)\n",
    "new_data['Semantics'] = sem\n",
    "\n",
    "print(new_data['Semantics'].head())"
   ]
  },
  {
   "cell_type": "code",
   "execution_count": 121,
   "metadata": {},
   "outputs": [
    {
     "data": {
      "text/html": [
       "<div>\n",
       "<style scoped>\n",
       "    .dataframe tbody tr th:only-of-type {\n",
       "        vertical-align: middle;\n",
       "    }\n",
       "\n",
       "    .dataframe tbody tr th {\n",
       "        vertical-align: top;\n",
       "    }\n",
       "\n",
       "    .dataframe thead th {\n",
       "        text-align: right;\n",
       "    }\n",
       "</style>\n",
       "<table border=\"1\" class=\"dataframe\">\n",
       "  <thead>\n",
       "    <tr style=\"text-align: right;\">\n",
       "      <th></th>\n",
       "      <th>Headline</th>\n",
       "      <th>Body</th>\n",
       "      <th>Text</th>\n",
       "      <th>Clean_Text</th>\n",
       "      <th>Text_POS</th>\n",
       "      <th>Semantic</th>\n",
       "      <th>Semantics</th>\n",
       "    </tr>\n",
       "  </thead>\n",
       "  <tbody>\n",
       "    <tr>\n",
       "      <td>0</td>\n",
       "      <td>Brexit Encourages UK to Trade With Non-EU Stat...</td>\n",
       "      <td>Britain and EU After Brexit ( 31 ) 0 13 0 0 Br...</td>\n",
       "      <td>Brexit Encourages UK to Trade With Non-EU Stat...</td>\n",
       "      <td>brexit encourages uk trade noneu state includi...</td>\n",
       "      <td>PROPN VERB PROPN ADP PROPN ADP PROPN PUNCT PRO...</td>\n",
       "      <td>[0.0, 1.0, 0.0, 5.0, 2.0, 0.0, 0.0, 0.0, 0.0, ...</td>\n",
       "      <td>office money money money money money wedding w...</td>\n",
       "    </tr>\n",
       "  </tbody>\n",
       "</table>\n",
       "</div>"
      ],
      "text/plain": [
       "                                            Headline  \\\n",
       "0  Brexit Encourages UK to Trade With Non-EU Stat...   \n",
       "\n",
       "                                                Body  \\\n",
       "0  Britain and EU After Brexit ( 31 ) 0 13 0 0 Br...   \n",
       "\n",
       "                                                Text  \\\n",
       "0  Brexit Encourages UK to Trade With Non-EU Stat...   \n",
       "\n",
       "                                          Clean_Text  \\\n",
       "0  brexit encourages uk trade noneu state includi...   \n",
       "\n",
       "                                            Text_POS  \\\n",
       "0  PROPN VERB PROPN ADP PROPN ADP PROPN PUNCT PRO...   \n",
       "\n",
       "                                            Semantic  \\\n",
       "0  [0.0, 1.0, 0.0, 5.0, 2.0, 0.0, 0.0, 0.0, 0.0, ...   \n",
       "\n",
       "                                           Semantics  \n",
       "0  office money money money money money wedding w...  "
      ]
     },
     "execution_count": 121,
     "metadata": {},
     "output_type": "execute_result"
    }
   ],
   "source": [
    "new_data.head()"
   ]
  },
  {
   "cell_type": "code",
   "execution_count": 122,
   "metadata": {},
   "outputs": [],
   "source": [
    "# transform using TFIDF semantic vectorizer\n",
    "sem_tfidf = sem_tfidf_vectorizer.transform(new_data['Semantics'].astype('str'))"
   ]
  },
  {
   "cell_type": "code",
   "execution_count": 123,
   "metadata": {},
   "outputs": [],
   "source": [
    "# Combine all 3 sparse matrices to form test data point\n",
    "diff_n_rows = pos_tfidf.shape[0] - tfidf.shape[0]\n",
    "b = sp.vstack((tfidf, sp.csr_matrix((diff_n_rows, tfidf.shape[1]))))\n",
    "c = sp.hstack((pos_tfidf, b))\n",
    "\n",
    "diff_n_rows = c.shape[0] - sem_tfidf.shape[0]\n",
    "b = sp.vstack((sem_tfidf, sp.csr_matrix((diff_n_rows, sem_tfidf.shape[1]))))\n",
    "X = sp.hstack((c, b))"
   ]
  },
  {
   "cell_type": "markdown",
   "metadata": {},
   "source": [
    "<h3>Result</h3>"
   ]
  },
  {
   "cell_type": "code",
   "execution_count": 124,
   "metadata": {},
   "outputs": [
    {
     "name": "stdout",
     "output_type": "stream",
     "text": [
      "['FAKE']\n",
      "[[0.87747567 0.12252433]]\n"
     ]
    }
   ],
   "source": [
    "# prediction\n",
    "pred = gb_classifier.predict(X)\n",
    "print(pred)\n",
    "\n",
    "# probalitistic prediction \n",
    "print(gb_classifier.predict_proba(X))"
   ]
  }
 ],
 "metadata": {
  "kernelspec": {
   "display_name": "Python 3",
   "language": "python",
   "name": "python3"
  },
  "language_info": {
   "codemirror_mode": {
    "name": "ipython",
    "version": 3
   },
   "file_extension": ".py",
   "mimetype": "text/x-python",
   "name": "python",
   "nbconvert_exporter": "python",
   "pygments_lexer": "ipython3",
   "version": "3.7.4"
  }
 },
 "nbformat": 4,
 "nbformat_minor": 4
}
